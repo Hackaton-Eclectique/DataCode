{
 "cells": [
  {
   "cell_type": "code",
   "execution_count": null,
   "id": "9c44ea68",
   "metadata": {},
   "outputs": [],
   "source": [
    "from selenium import webdriver\n",
    "from webdriver_manager.chrome import ChromeDriverManager\n",
    "from selenium.webdriver.chrome.options import Options\n",
    "from time import sleep\n",
    "\n",
    "from selenium.webdriver.support.ui import Select\n",
    "\n"
   ]
  },
  {
   "cell_type": "code",
   "execution_count": null,
   "id": "83c5e04b",
   "metadata": {},
   "outputs": [],
   "source": [
    "opciones=Options()\n",
    "opciones.add_experimental_option('excludeSwitches', ['enable-automation'])\n",
    "opciones.add_experimental_option('useAutomationExtension', False)\n",
    "opciones.headless=False    # si True, no aperece la ventana (headless=no visible)\n",
    "opciones.add_argument('--start-maximized')         # comienza maximizado\n",
    "opciones.add_argument('user-data-dir=selenium')    # mantiene las cookies\n",
    "opciones.add_argument('--incognito')"
   ]
  },
  {
   "cell_type": "code",
   "execution_count": null,
   "id": "b0d199ca",
   "metadata": {},
   "outputs": [],
   "source": [
    "def get_one(num):\n",
    "    receipes = []\n",
    "    nutricionals = []\n",
    "    ingredients = []\n",
    "    for i in range(1,13):\n",
    "        driver = webdriver.Chrome(ChromeDriverManager().install(), options = opciones)\n",
    "\n",
    "        driver.get(f\"https://www.diabetes.org.uk/guide-to-diabetes/recipes?_wrapper_format=html&page={num}\")\n",
    "        sleep(5)\n",
    "        driver.find_element_by_css_selector(\"body > div.optanon-alert-box-wrapper > div.optanon-alert-box-bg > div.optanon-alert-box-button-container > div.optanon-alert-box-button.optanon-button-allow > div\").click() # aceptar cookies\n",
    "        sleep(5)\n",
    "        driver.execute_script(\"window.scrollTo(0, 300)\")\n",
    "        sleep(5)\n",
    "        driver.find_element_by_css_selector(\"#fe-popup-close\").click() #acepto el popup\n",
    "            \n",
    "        driver.find_element_by_css_selector(f\"#block-diabetes-content > div > div > div.recipes-listing > div > div.views-view-grid.horizontal.cols-12.clearfix > div > div:nth-child({i}) > article > div.card__title > h3 > a > span\").click() # acceder a la primera receta\n",
    "        sleep(2)\n",
    "        receipe = driver.find_element_by_css_selector(\"#block-diabetes-content > div > div > div:nth-child(1) > h1\").text\n",
    "        receipes.append(receipe)\n",
    "        nutricional = driver.find_element_by_css_selector(\"#block-diabetes-content > article > div > div:nth-child(1) > div:nth-child(2) > section\").text\n",
    "        nutricionals.append(nutricional)\n",
    "        ingredient = driver.find_element_by_css_selector(\"#edit-group-ingredients > div > div.wrapper\").text\n",
    "        ingredients.append(ingredient)\n",
    "        driver.quit()\n",
    "    return receipes, nutricionals, ingredients"
   ]
  },
  {
   "cell_type": "code",
   "execution_count": null,
   "id": "0556d183",
   "metadata": {},
   "outputs": [],
   "source": [
    "driver = webdriver.Chrome(ChromeDriverManager().install(), options = opciones)\n",
    "\n",
    "driver.get(f\"https://www.diabetes.org.uk/guide-to-diabetes/recipes?_wrapper_format=html&page=1\")\n",
    "sleep(5)\n",
    "driver.find_element_by_css_selector(\"body > div.optanon-alert-box-wrapper > div.optanon-alert-box-bg > div.optanon-alert-box-button-container > div.optanon-alert-box-button.optanon-button-allow > div\").click() # aceptar cookies\n",
    "sleep(5)\n",
    "driver.execute_script(\"window.scrollTo(0, 300)\")\n",
    "driver.find_element_by_css_selector(\"#fe-popup-close\").click() #acepto el popup\n",
    "\n",
    "driver.find_element_by_css_selector(f\"#block-diabetes-content > div > div > div.recipes-listing > div > div.views-view-grid.horizontal.cols-12.clearfix > div > div:nth-child(1) > article > div.card__title > h3 > a > span\").click() # acceder a la primera receta\n"
   ]
  },
  {
   "cell_type": "code",
   "execution_count": null,
   "id": "529d074d",
   "metadata": {},
   "outputs": [],
   "source": [
    "def get_one_page(num):\n",
    "    receipes = []\n",
    "    nutricionals = []\n",
    "    for i in range(1,13):\n",
    "            driver = webdriver.Chrome(ChromeDriverManager().install(), options = opciones)\n",
    "\n",
    "            driver.get(f\"https://www.diabetes.org.uk/guide-to-diabetes/recipes?_wrapper_format=html&page={num}\")\n",
    "            sleep(5)\n",
    "            driver.find_element_by_css_selector(\"body > div.optanon-alert-box-wrapper > div.optanon-alert-box-bg > div.optanon-alert-box-button-container > div.optanon-alert-box-button.optanon-button-allow > div\").click() # aceptar cookies\n",
    "            sleep(5)\n",
    "            try:\n",
    "                driver.find_element_by_css_selector(f\"#block-diabetes-content > div > div > div.recipes-listing > div > div.views-view-grid.horizontal.cols-12.clearfix > div > div:nth-child({i}) > article > div.card__title > h3 > a > span\").click() # acceder a la primera receta\n",
    "                sleep(5)\n",
    "                receipe = driver.find_element_by_css_selector(\"#block-diabetes-content > div > div > div:nth-child(1) > h1\").text\n",
    "                receipes.append(receipe)\n",
    "                nutricional = driver.find_element_by_css_selector(\"#block-diabetes-content > article > div > div:nth-child(1) > div:nth-child(2) > section\").text\n",
    "                nutricionals.append(nutricional)\n",
    "                sleep(5)\n",
    "                driver.quit()\n",
    "            except : \n",
    "                driver.find_element_by_css_selector(\"#fe-popup-close\").click() #acepto el popup\n",
    "                driver.find_element_by_css_selector(f\"#block-diabetes-content > div > div > div.recipes-listing > div > div.views-view-grid.horizontal.cols-12.clearfix > div > div:nth-child({i}) > article > div.card__title > h3 > a > span\").click() # acceder a la primera receta\n",
    "                sleep(5)\n",
    "                receipe = driver.find_element_by_css_selector(\"#block-diabetes-content > div > div > div:nth-child(1) > h1\").text\n",
    "                receipes.append(receipe)\n",
    "                nutricional = driver.find_element_by_css_selector(\"#block-diabetes-content > article > div > div:nth-child(1) > div:nth-child(2) > section\").text\n",
    "                nutricionals.append(nutricional)\n",
    "                sleep(5)\n",
    "                driver.quit()\n",
    "    return receipes, nutricionals\n",
    "\n",
    "#driver.find_element_by_css_selector(\"#block-diabetes-content > div > div > div.recipes-listing > div > div.views-view-grid.horizontal.cols-12.clearfix > div > div:nth-child(1) > article > div.card__title > h3 > a > span\").click() # acceder a la primera receta\n"
   ]
  },
  {
   "cell_type": "code",
   "execution_count": null,
   "id": "d6964c11",
   "metadata": {},
   "outputs": [],
   "source": [
    "final_r = []\n",
    "final_n = []\n",
    "final_i = []\n",
    "for i in range(29, 31):\n",
    "    print(i)\n",
    "    receipes, nutricionals, ingredients = get_one(i)\n",
    "    final_r.append(receipes)\n",
    "    final_n.append(nutricionals)\n",
    "    final_i.append(ingredients)"
   ]
  },
  {
   "cell_type": "code",
   "execution_count": null,
   "id": "direct-specific",
   "metadata": {},
   "outputs": [],
   "source": [
    "import pandas as pd"
   ]
  },
  {
   "cell_type": "code",
   "execution_count": null,
   "id": "grave-oregon",
   "metadata": {},
   "outputs": [],
   "source": [
    "df_recipes = pd.DataFrame([lst2 for lst in final_r for lst2 in lst])\n",
    "df_nutricional = pd.DataFrame([lst2 for lst in final_n for lst2 in lst])\n",
    "df_ingredients = pd.DataFrame([lst2 for lst in final_i for lst2 in lst])"
   ]
  },
  {
   "cell_type": "code",
   "execution_count": null,
   "id": "alleged-skill",
   "metadata": {},
   "outputs": [],
   "source": [
    "final = pd.concat([df_recipes, df_nutricional, df_ingredients], axis = 1)\n",
    "final.columns = [\"receipe\", \"nutricional\", \"ingredients\"]"
   ]
  },
  {
   "cell_type": "code",
   "execution_count": null,
   "id": "dietary-anatomy",
   "metadata": {},
   "outputs": [],
   "source": [
    "final.to_csv(\"six.csv\")"
   ]
  },
  {
   "cell_type": "markdown",
   "id": "452efb3f",
   "metadata": {},
   "source": [
    "#### All data together "
   ]
  },
  {
   "cell_type": "code",
   "execution_count": null,
   "id": "fe3632d5",
   "metadata": {},
   "outputs": [],
   "source": [
    "lst = [\"one\", \"two\", \"three\", \"four\", \"five\"]\n",
    "new_lst = []\n",
    "for i in lst:\n",
    "    df = pd.read_csv(f\"{i}.csv\")\n",
    "    new_lst.append(df)\n",
    "\n",
    "finall = pd.concat(new_lst)\n",
    "    "
   ]
  },
  {
   "cell_type": "code",
   "execution_count": null,
   "id": "thrown-garden",
   "metadata": {
    "scrolled": true
   },
   "outputs": [],
   "source": [
    "pd.set_option('display.max_columns', None)\n",
    "pd.set_option('display.expand_frame_repr', False)\n",
    "pd.set_option('max_colwidth', -1)\n",
    "final.head(1)"
   ]
  },
  {
   "cell_type": "markdown",
   "id": "guided-imperial",
   "metadata": {},
   "source": [
    "#### Para la columna de nutricional "
   ]
  },
  {
   "cell_type": "code",
   "execution_count": null,
   "id": "front-heading",
   "metadata": {},
   "outputs": [],
   "source": [
    "final[\"nutricional\"] = final[\"nutricional\"].apply(lambda x: x.split('\\n'))\n",
    "final[\"nutricional\"] = final[\"nutricional\"].apply(lambda x: x.split(','))"
   ]
  },
  {
   "cell_type": "code",
   "execution_count": null,
   "id": "sudden-digest",
   "metadata": {},
   "outputs": [],
   "source": [
    "final.head(1)"
   ]
  },
  {
   "cell_type": "code",
   "execution_count": null,
   "id": "identified-literature",
   "metadata": {},
   "outputs": [],
   "source": [
    "final_nutri = final[[\"receipe\", \"nutricional\"]]"
   ]
  },
  {
   "cell_type": "code",
   "execution_count": null,
   "id": "boolean-british",
   "metadata": {},
   "outputs": [],
   "source": [
    "final_nutri.head(1)"
   ]
  },
  {
   "cell_type": "code",
   "execution_count": null,
   "id": "confused-facility",
   "metadata": {},
   "outputs": [],
   "source": [
    "final_nutri = final_nutri.explode(\"nutricional\")"
   ]
  },
  {
   "cell_type": "code",
   "execution_count": null,
   "id": "thorough-america",
   "metadata": {},
   "outputs": [],
   "source": [
    "final_nutri.head()"
   ]
  },
  {
   "cell_type": "code",
   "execution_count": null,
   "id": "interracial-principle",
   "metadata": {},
   "outputs": [],
   "source": [
    "final_nutri.T"
   ]
  },
  {
   "cell_type": "markdown",
   "id": "passive-membership",
   "metadata": {},
   "source": [
    "#### Para la columna de ingredientes"
   ]
  },
  {
   "cell_type": "code",
   "execution_count": null,
   "id": "signal-repair",
   "metadata": {},
   "outputs": [],
   "source": [
    "s = pd.DataFrame(final['ingredients'].str.split('\\n').apply(pd.Series, 1).stack())\n",
    "s.index = s.index.droplevel(-1)"
   ]
  },
  {
   "cell_type": "code",
   "execution_count": null,
   "id": "blank-bicycle",
   "metadata": {},
   "outputs": [],
   "source": [
    "s.head(10)"
   ]
  },
  {
   "cell_type": "code",
   "execution_count": null,
   "id": "random-empty",
   "metadata": {},
   "outputs": [],
   "source": [
    "final_ingredients = final.join(s)\n",
    "final_ingredients.drop([\"nutricional\", \"ingredients\"], axis = 1, inplace = True)\n",
    "final_ingredients.columns = [\"receipe\", \"ingredients\"]"
   ]
  },
  {
   "cell_type": "code",
   "execution_count": null,
   "id": "smoking-compilation",
   "metadata": {},
   "outputs": [],
   "source": [
    "final_ingredients.head()"
   ]
  },
  {
   "cell_type": "code",
   "execution_count": null,
   "id": "administrative-driving",
   "metadata": {},
   "outputs": [],
   "source": [
    "table = pd.pivot_table(final_ingredients, index=['receipe', \"ingredients\"],\n",
    "                    columns=['receipe'])"
   ]
  },
  {
   "cell_type": "code",
   "execution_count": null,
   "id": "second-consciousness",
   "metadata": {},
   "outputs": [],
   "source": [
    "table"
   ]
  },
  {
   "cell_type": "code",
   "execution_count": null,
   "id": "massive-fossil",
   "metadata": {},
   "outputs": [],
   "source": [
    "table2 = table.reset_index(\"ingredients\")\n",
    "table2.set_index(table.groupby(level=0).cumcount().rename('ingredients'), append=True, drop = False)\n"
   ]
  },
  {
   "cell_type": "markdown",
   "id": "fed37154",
   "metadata": {},
   "source": [
    "**primera receta**\n",
    "\n",
    "#block-diabetes-content > div > div > div.recipes-listing > div > div.views-view-grid.horizontal.cols-12.clearfix > div > div:nth-child(1) > article > div.card__title > h3 > a > span\n",
    "\n",
    "**segunda receta**  \n",
    "\n",
    "#block-diabetes-content > div > div > div.recipes-listing > div > div.views-view-grid.horizontal.cols-12.clearfix > div > div:nth-child(2) > article > div.card__title > h3 > a > span\n",
    "\n",
    "\n",
    "**última receta de cada página**\n",
    "\n",
    "#block-diabetes-content > div > div > div.recipes-listing > div > div.views-view-grid.horizontal.cols-12.clearfix > div > div:nth-child(12) > article > div.card__title > h3 > a > span\n"
   ]
  },
  {
   "cell_type": "code",
   "execution_count": null,
   "id": "d9716879",
   "metadata": {},
   "outputs": [],
   "source": []
  }
 ],
 "metadata": {
  "kernelspec": {
   "display_name": "Selenium",
   "language": "python",
   "name": "selenium"
  },
  "language_info": {
   "codemirror_mode": {
    "name": "ipython",
    "version": 3
   },
   "file_extension": ".py",
   "mimetype": "text/x-python",
   "name": "python",
   "nbconvert_exporter": "python",
   "pygments_lexer": "ipython3",
   "version": "3.8.8"
  },
  "toc": {
   "base_numbering": 1,
   "nav_menu": {},
   "number_sections": true,
   "sideBar": true,
   "skip_h1_title": false,
   "title_cell": "Table of Contents",
   "title_sidebar": "Contents",
   "toc_cell": false,
   "toc_position": {},
   "toc_section_display": true,
   "toc_window_display": false
  },
  "varInspector": {
   "cols": {
    "lenName": 16,
    "lenType": 16,
    "lenVar": 40
   },
   "kernels_config": {
    "python": {
     "delete_cmd_postfix": "",
     "delete_cmd_prefix": "del ",
     "library": "var_list.py",
     "varRefreshCmd": "print(var_dic_list())"
    },
    "r": {
     "delete_cmd_postfix": ") ",
     "delete_cmd_prefix": "rm(",
     "library": "var_list.r",
     "varRefreshCmd": "cat(var_dic_list()) "
    }
   },
   "types_to_exclude": [
    "module",
    "function",
    "builtin_function_or_method",
    "instance",
    "_Feature"
   ],
   "window_display": false
  }
 },
 "nbformat": 4,
 "nbformat_minor": 5
}
