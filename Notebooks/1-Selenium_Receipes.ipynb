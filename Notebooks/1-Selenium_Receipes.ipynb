{
 "cells": [
  {
   "cell_type": "code",
   "execution_count": 1,
   "id": "9c44ea68",
   "metadata": {},
   "outputs": [],
   "source": [
    "from selenium import webdriver\n",
    "from webdriver_manager.chrome import ChromeDriverManager\n",
    "from selenium.webdriver.chrome.options import Options\n",
    "from time import sleep\n",
    "\n",
    "from selenium.webdriver.support.ui import Select\n",
    "\n"
   ]
  },
  {
   "cell_type": "code",
   "execution_count": 2,
   "id": "83c5e04b",
   "metadata": {},
   "outputs": [],
   "source": [
    "opciones=Options()\n",
    "opciones.add_experimental_option('excludeSwitches', ['enable-automation'])\n",
    "opciones.add_experimental_option('useAutomationExtension', False)\n",
    "opciones.headless=False    # si True, no aperece la ventana (headless=no visible)\n",
    "opciones.add_argument('--start-maximized')         # comienza maximizado\n",
    "opciones.add_argument('user-data-dir=selenium')    # mantiene las cookies\n",
    "opciones.add_argument('--incognito')"
   ]
  },
  {
   "cell_type": "code",
   "execution_count": 3,
   "id": "b0d199ca",
   "metadata": {},
   "outputs": [],
   "source": [
    "def get_one(num):\n",
    "    receipes = []\n",
    "    nutricionals = []\n",
    "    ingredients = []\n",
    "    for i in range(1,13):\n",
    "        driver = webdriver.Chrome(ChromeDriverManager().install(), options = opciones)\n",
    "\n",
    "        driver.get(f\"https://www.diabetes.org.uk/guide-to-diabetes/recipes?_wrapper_format=html&page={num}\")\n",
    "        sleep(5)\n",
    "        driver.find_element_by_css_selector(\"body > div.optanon-alert-box-wrapper > div.optanon-alert-box-bg > div.optanon-alert-box-button-container > div.optanon-alert-box-button.optanon-button-allow > div\").click() # aceptar cookies\n",
    "        sleep(5)\n",
    "        driver.execute_script(\"window.scrollTo(0, 300)\")\n",
    "        sleep(5)\n",
    "        driver.find_element_by_css_selector(\"#fe-popup-close\").click() #acepto el popup\n",
    "            \n",
    "        driver.find_element_by_css_selector(f\"#block-diabetes-content > div > div > div.recipes-listing > div > div.views-view-grid.horizontal.cols-12.clearfix > div > div:nth-child({i}) > article > div.card__title > h3 > a > span\").click() # acceder a la primera receta\n",
    "        sleep(2)\n",
    "        receipe = driver.find_element_by_css_selector(\"#block-diabetes-content > div > div > div:nth-child(1) > h1\").text\n",
    "        receipes.append(receipe)\n",
    "        nutricional = driver.find_element_by_css_selector(\"#block-diabetes-content > article > div > div:nth-child(1) > div:nth-child(2) > section\").text\n",
    "        nutricionals.append(nutricional)\n",
    "        ingredient = driver.find_element_by_css_selector(\"#edit-group-ingredients > div > div.wrapper\").text\n",
    "        ingredients.append(ingredient)\n",
    "        driver.quit()\n",
    "    return receipes, nutricionals, ingredients"
   ]
  },
  {
   "cell_type": "code",
   "execution_count": null,
   "id": "0556d183",
   "metadata": {},
   "outputs": [],
   "source": [
    "driver = webdriver.Chrome(ChromeDriverManager().install(), options = opciones)\n",
    "\n",
    "driver.get(f\"https://www.diabetes.org.uk/guide-to-diabetes/recipes?_wrapper_format=html&page=1\")\n",
    "sleep(5)\n",
    "driver.find_element_by_css_selector(\"body > div.optanon-alert-box-wrapper > div.optanon-alert-box-bg > div.optanon-alert-box-button-container > div.optanon-alert-box-button.optanon-button-allow > div\").click() # aceptar cookies\n",
    "sleep(5)\n",
    "driver.execute_script(\"window.scrollTo(0, 300)\")\n",
    "driver.find_element_by_css_selector(\"#fe-popup-close\").click() #acepto el popup\n",
    "\n",
    "driver.find_element_by_css_selector(f\"#block-diabetes-content > div > div > div.recipes-listing > div > div.views-view-grid.horizontal.cols-12.clearfix > div > div:nth-child(1) > article > div.card__title > h3 > a > span\").click() # acceder a la primera receta\n"
   ]
  },
  {
   "cell_type": "code",
   "execution_count": null,
   "id": "529d074d",
   "metadata": {},
   "outputs": [],
   "source": [
    "def get_one_page(num):\n",
    "    receipes = []\n",
    "    nutricionals = []\n",
    "    for i in range(1,13):\n",
    "            driver = webdriver.Chrome(ChromeDriverManager().install(), options = opciones)\n",
    "\n",
    "            driver.get(f\"https://www.diabetes.org.uk/guide-to-diabetes/recipes?_wrapper_format=html&page={num}\")\n",
    "            sleep(5)\n",
    "            driver.find_element_by_css_selector(\"body > div.optanon-alert-box-wrapper > div.optanon-alert-box-bg > div.optanon-alert-box-button-container > div.optanon-alert-box-button.optanon-button-allow > div\").click() # aceptar cookies\n",
    "            sleep(5)\n",
    "            try:\n",
    "                driver.find_element_by_css_selector(f\"#block-diabetes-content > div > div > div.recipes-listing > div > div.views-view-grid.horizontal.cols-12.clearfix > div > div:nth-child({i}) > article > div.card__title > h3 > a > span\").click() # acceder a la primera receta\n",
    "                sleep(5)\n",
    "                receipe = driver.find_element_by_css_selector(\"#block-diabetes-content > div > div > div:nth-child(1) > h1\").text\n",
    "                receipes.append(receipe)\n",
    "                nutricional = driver.find_element_by_css_selector(\"#block-diabetes-content > article > div > div:nth-child(1) > div:nth-child(2) > section\").text\n",
    "                nutricionals.append(nutricional)\n",
    "                sleep(5)\n",
    "                driver.quit()\n",
    "            except : \n",
    "                driver.find_element_by_css_selector(\"#fe-popup-close\").click() #acepto el popup\n",
    "                driver.find_element_by_css_selector(f\"#block-diabetes-content > div > div > div.recipes-listing > div > div.views-view-grid.horizontal.cols-12.clearfix > div > div:nth-child({i}) > article > div.card__title > h3 > a > span\").click() # acceder a la primera receta\n",
    "                sleep(5)\n",
    "                receipe = driver.find_element_by_css_selector(\"#block-diabetes-content > div > div > div:nth-child(1) > h1\").text\n",
    "                receipes.append(receipe)\n",
    "                nutricional = driver.find_element_by_css_selector(\"#block-diabetes-content > article > div > div:nth-child(1) > div:nth-child(2) > section\").text\n",
    "                nutricionals.append(nutricional)\n",
    "                sleep(5)\n",
    "                driver.quit()\n",
    "    return receipes, nutricionals\n",
    "\n",
    "#driver.find_element_by_css_selector(\"#block-diabetes-content > div > div > div.recipes-listing > div > div.views-view-grid.horizontal.cols-12.clearfix > div > div:nth-child(1) > article > div.card__title > h3 > a > span\").click() # acceder a la primera receta\n"
   ]
  },
  {
   "cell_type": "code",
   "execution_count": 22,
   "id": "d6964c11",
   "metadata": {},
   "outputs": [
    {
     "name": "stderr",
     "output_type": "stream",
     "text": [
      "\n",
      "\n",
      "====== WebDriver manager ======\n",
      "Current google-chrome version is 94.0.4606\n",
      "Get LATEST driver version for 94.0.4606\n",
      "Driver [/Users/anagarciagarcia/.wdm/drivers/chromedriver/mac64/94.0.4606.61/chromedriver] found in cache\n"
     ]
    },
    {
     "name": "stdout",
     "output_type": "stream",
     "text": [
      "43\n"
     ]
    },
    {
     "ename": "NoSuchElementException",
     "evalue": "Message: no such element: Unable to locate element: {\"method\":\"css selector\",\"selector\":\"#block-diabetes-content > div > div > div.recipes-listing > div > div.views-view-grid.horizontal.cols-12.clearfix > div > div:nth-child(1) > article > div.card__title > h3 > a > span\"}\n  (Session info: chrome=94.0.4606.81)\n",
     "output_type": "error",
     "traceback": [
      "\u001b[0;31m---------------------------------------------------------------------------\u001b[0m",
      "\u001b[0;31mNoSuchElementException\u001b[0m                    Traceback (most recent call last)",
      "\u001b[0;32m<ipython-input-22-011927029aff>\u001b[0m in \u001b[0;36m<module>\u001b[0;34m\u001b[0m\n\u001b[1;32m      4\u001b[0m \u001b[0;32mfor\u001b[0m \u001b[0mi\u001b[0m \u001b[0;32min\u001b[0m \u001b[0mrange\u001b[0m\u001b[0;34m(\u001b[0m\u001b[0;36m43\u001b[0m\u001b[0;34m,\u001b[0m \u001b[0;36m44\u001b[0m\u001b[0;34m)\u001b[0m\u001b[0;34m:\u001b[0m\u001b[0;34m\u001b[0m\u001b[0;34m\u001b[0m\u001b[0m\n\u001b[1;32m      5\u001b[0m     \u001b[0mprint\u001b[0m\u001b[0;34m(\u001b[0m\u001b[0mi\u001b[0m\u001b[0;34m)\u001b[0m\u001b[0;34m\u001b[0m\u001b[0;34m\u001b[0m\u001b[0m\n\u001b[0;32m----> 6\u001b[0;31m     \u001b[0mreceipes\u001b[0m\u001b[0;34m,\u001b[0m \u001b[0mnutricionals\u001b[0m\u001b[0;34m,\u001b[0m \u001b[0mingredients\u001b[0m \u001b[0;34m=\u001b[0m \u001b[0mget_one\u001b[0m\u001b[0;34m(\u001b[0m\u001b[0mi\u001b[0m\u001b[0;34m)\u001b[0m\u001b[0;34m\u001b[0m\u001b[0;34m\u001b[0m\u001b[0m\n\u001b[0m\u001b[1;32m      7\u001b[0m     \u001b[0mfinal_r\u001b[0m\u001b[0;34m.\u001b[0m\u001b[0mappend\u001b[0m\u001b[0;34m(\u001b[0m\u001b[0mreceipes\u001b[0m\u001b[0;34m)\u001b[0m\u001b[0;34m\u001b[0m\u001b[0;34m\u001b[0m\u001b[0m\n\u001b[1;32m      8\u001b[0m     \u001b[0mfinal_n\u001b[0m\u001b[0;34m.\u001b[0m\u001b[0mappend\u001b[0m\u001b[0;34m(\u001b[0m\u001b[0mnutricionals\u001b[0m\u001b[0;34m)\u001b[0m\u001b[0;34m\u001b[0m\u001b[0;34m\u001b[0m\u001b[0m\n",
      "\u001b[0;32m<ipython-input-3-83025943ad82>\u001b[0m in \u001b[0;36mget_one\u001b[0;34m(num)\u001b[0m\n\u001b[1;32m     14\u001b[0m         \u001b[0mdriver\u001b[0m\u001b[0;34m.\u001b[0m\u001b[0mfind_element_by_css_selector\u001b[0m\u001b[0;34m(\u001b[0m\u001b[0;34m\"#fe-popup-close\"\u001b[0m\u001b[0;34m)\u001b[0m\u001b[0;34m.\u001b[0m\u001b[0mclick\u001b[0m\u001b[0;34m(\u001b[0m\u001b[0;34m)\u001b[0m \u001b[0;31m#acepto el popup\u001b[0m\u001b[0;34m\u001b[0m\u001b[0;34m\u001b[0m\u001b[0m\n\u001b[1;32m     15\u001b[0m \u001b[0;34m\u001b[0m\u001b[0m\n\u001b[0;32m---> 16\u001b[0;31m         \u001b[0mdriver\u001b[0m\u001b[0;34m.\u001b[0m\u001b[0mfind_element_by_css_selector\u001b[0m\u001b[0;34m(\u001b[0m\u001b[0;34mf\"#block-diabetes-content > div > div > div.recipes-listing > div > div.views-view-grid.horizontal.cols-12.clearfix > div > div:nth-child({i}) > article > div.card__title > h3 > a > span\"\u001b[0m\u001b[0;34m)\u001b[0m\u001b[0;34m.\u001b[0m\u001b[0mclick\u001b[0m\u001b[0;34m(\u001b[0m\u001b[0;34m)\u001b[0m \u001b[0;31m# acceder a la primera receta\u001b[0m\u001b[0;34m\u001b[0m\u001b[0;34m\u001b[0m\u001b[0m\n\u001b[0m\u001b[1;32m     17\u001b[0m         \u001b[0msleep\u001b[0m\u001b[0;34m(\u001b[0m\u001b[0;36m2\u001b[0m\u001b[0;34m)\u001b[0m\u001b[0;34m\u001b[0m\u001b[0;34m\u001b[0m\u001b[0m\n\u001b[1;32m     18\u001b[0m         \u001b[0mreceipe\u001b[0m \u001b[0;34m=\u001b[0m \u001b[0mdriver\u001b[0m\u001b[0;34m.\u001b[0m\u001b[0mfind_element_by_css_selector\u001b[0m\u001b[0;34m(\u001b[0m\u001b[0;34m\"#block-diabetes-content > div > div > div:nth-child(1) > h1\"\u001b[0m\u001b[0;34m)\u001b[0m\u001b[0;34m.\u001b[0m\u001b[0mtext\u001b[0m\u001b[0;34m\u001b[0m\u001b[0;34m\u001b[0m\u001b[0m\n",
      "\u001b[0;32m/usr/local/Caskroom/miniconda/base/envs/Selenium/lib/python3.8/site-packages/selenium/webdriver/remote/webdriver.py\u001b[0m in \u001b[0;36mfind_element_by_css_selector\u001b[0;34m(self, css_selector)\u001b[0m\n\u001b[1;32m    596\u001b[0m             \u001b[0melement\u001b[0m \u001b[0;34m=\u001b[0m \u001b[0mdriver\u001b[0m\u001b[0;34m.\u001b[0m\u001b[0mfind_element_by_css_selector\u001b[0m\u001b[0;34m(\u001b[0m\u001b[0;34m'#foo'\u001b[0m\u001b[0;34m)\u001b[0m\u001b[0;34m\u001b[0m\u001b[0;34m\u001b[0m\u001b[0m\n\u001b[1;32m    597\u001b[0m         \"\"\"\n\u001b[0;32m--> 598\u001b[0;31m         \u001b[0;32mreturn\u001b[0m \u001b[0mself\u001b[0m\u001b[0;34m.\u001b[0m\u001b[0mfind_element\u001b[0m\u001b[0;34m(\u001b[0m\u001b[0mby\u001b[0m\u001b[0;34m=\u001b[0m\u001b[0mBy\u001b[0m\u001b[0;34m.\u001b[0m\u001b[0mCSS_SELECTOR\u001b[0m\u001b[0;34m,\u001b[0m \u001b[0mvalue\u001b[0m\u001b[0;34m=\u001b[0m\u001b[0mcss_selector\u001b[0m\u001b[0;34m)\u001b[0m\u001b[0;34m\u001b[0m\u001b[0;34m\u001b[0m\u001b[0m\n\u001b[0m\u001b[1;32m    599\u001b[0m \u001b[0;34m\u001b[0m\u001b[0m\n\u001b[1;32m    600\u001b[0m     \u001b[0;32mdef\u001b[0m \u001b[0mfind_elements_by_css_selector\u001b[0m\u001b[0;34m(\u001b[0m\u001b[0mself\u001b[0m\u001b[0;34m,\u001b[0m \u001b[0mcss_selector\u001b[0m\u001b[0;34m)\u001b[0m\u001b[0;34m:\u001b[0m\u001b[0;34m\u001b[0m\u001b[0;34m\u001b[0m\u001b[0m\n",
      "\u001b[0;32m/usr/local/Caskroom/miniconda/base/envs/Selenium/lib/python3.8/site-packages/selenium/webdriver/remote/webdriver.py\u001b[0m in \u001b[0;36mfind_element\u001b[0;34m(self, by, value)\u001b[0m\n\u001b[1;32m    974\u001b[0m                 \u001b[0mby\u001b[0m \u001b[0;34m=\u001b[0m \u001b[0mBy\u001b[0m\u001b[0;34m.\u001b[0m\u001b[0mCSS_SELECTOR\u001b[0m\u001b[0;34m\u001b[0m\u001b[0;34m\u001b[0m\u001b[0m\n\u001b[1;32m    975\u001b[0m                 \u001b[0mvalue\u001b[0m \u001b[0;34m=\u001b[0m \u001b[0;34m'[name=\"%s\"]'\u001b[0m \u001b[0;34m%\u001b[0m \u001b[0mvalue\u001b[0m\u001b[0;34m\u001b[0m\u001b[0;34m\u001b[0m\u001b[0m\n\u001b[0;32m--> 976\u001b[0;31m         return self.execute(Command.FIND_ELEMENT, {\n\u001b[0m\u001b[1;32m    977\u001b[0m             \u001b[0;34m'using'\u001b[0m\u001b[0;34m:\u001b[0m \u001b[0mby\u001b[0m\u001b[0;34m,\u001b[0m\u001b[0;34m\u001b[0m\u001b[0;34m\u001b[0m\u001b[0m\n\u001b[1;32m    978\u001b[0m             'value': value})['value']\n",
      "\u001b[0;32m/usr/local/Caskroom/miniconda/base/envs/Selenium/lib/python3.8/site-packages/selenium/webdriver/remote/webdriver.py\u001b[0m in \u001b[0;36mexecute\u001b[0;34m(self, driver_command, params)\u001b[0m\n\u001b[1;32m    319\u001b[0m         \u001b[0mresponse\u001b[0m \u001b[0;34m=\u001b[0m \u001b[0mself\u001b[0m\u001b[0;34m.\u001b[0m\u001b[0mcommand_executor\u001b[0m\u001b[0;34m.\u001b[0m\u001b[0mexecute\u001b[0m\u001b[0;34m(\u001b[0m\u001b[0mdriver_command\u001b[0m\u001b[0;34m,\u001b[0m \u001b[0mparams\u001b[0m\u001b[0;34m)\u001b[0m\u001b[0;34m\u001b[0m\u001b[0;34m\u001b[0m\u001b[0m\n\u001b[1;32m    320\u001b[0m         \u001b[0;32mif\u001b[0m \u001b[0mresponse\u001b[0m\u001b[0;34m:\u001b[0m\u001b[0;34m\u001b[0m\u001b[0;34m\u001b[0m\u001b[0m\n\u001b[0;32m--> 321\u001b[0;31m             \u001b[0mself\u001b[0m\u001b[0;34m.\u001b[0m\u001b[0merror_handler\u001b[0m\u001b[0;34m.\u001b[0m\u001b[0mcheck_response\u001b[0m\u001b[0;34m(\u001b[0m\u001b[0mresponse\u001b[0m\u001b[0;34m)\u001b[0m\u001b[0;34m\u001b[0m\u001b[0;34m\u001b[0m\u001b[0m\n\u001b[0m\u001b[1;32m    322\u001b[0m             response['value'] = self._unwrap_value(\n\u001b[1;32m    323\u001b[0m                 response.get('value', None))\n",
      "\u001b[0;32m/usr/local/Caskroom/miniconda/base/envs/Selenium/lib/python3.8/site-packages/selenium/webdriver/remote/errorhandler.py\u001b[0m in \u001b[0;36mcheck_response\u001b[0;34m(self, response)\u001b[0m\n\u001b[1;32m    240\u001b[0m                 \u001b[0malert_text\u001b[0m \u001b[0;34m=\u001b[0m \u001b[0mvalue\u001b[0m\u001b[0;34m[\u001b[0m\u001b[0;34m'alert'\u001b[0m\u001b[0;34m]\u001b[0m\u001b[0;34m.\u001b[0m\u001b[0mget\u001b[0m\u001b[0;34m(\u001b[0m\u001b[0;34m'text'\u001b[0m\u001b[0;34m)\u001b[0m\u001b[0;34m\u001b[0m\u001b[0;34m\u001b[0m\u001b[0m\n\u001b[1;32m    241\u001b[0m             \u001b[0;32mraise\u001b[0m \u001b[0mexception_class\u001b[0m\u001b[0;34m(\u001b[0m\u001b[0mmessage\u001b[0m\u001b[0;34m,\u001b[0m \u001b[0mscreen\u001b[0m\u001b[0;34m,\u001b[0m \u001b[0mstacktrace\u001b[0m\u001b[0;34m,\u001b[0m \u001b[0malert_text\u001b[0m\u001b[0;34m)\u001b[0m\u001b[0;34m\u001b[0m\u001b[0;34m\u001b[0m\u001b[0m\n\u001b[0;32m--> 242\u001b[0;31m         \u001b[0;32mraise\u001b[0m \u001b[0mexception_class\u001b[0m\u001b[0;34m(\u001b[0m\u001b[0mmessage\u001b[0m\u001b[0;34m,\u001b[0m \u001b[0mscreen\u001b[0m\u001b[0;34m,\u001b[0m \u001b[0mstacktrace\u001b[0m\u001b[0;34m)\u001b[0m\u001b[0;34m\u001b[0m\u001b[0;34m\u001b[0m\u001b[0m\n\u001b[0m\u001b[1;32m    243\u001b[0m \u001b[0;34m\u001b[0m\u001b[0m\n\u001b[1;32m    244\u001b[0m     \u001b[0;32mdef\u001b[0m \u001b[0m_value_or_default\u001b[0m\u001b[0;34m(\u001b[0m\u001b[0mself\u001b[0m\u001b[0;34m,\u001b[0m \u001b[0mobj\u001b[0m\u001b[0;34m,\u001b[0m \u001b[0mkey\u001b[0m\u001b[0;34m,\u001b[0m \u001b[0mdefault\u001b[0m\u001b[0;34m)\u001b[0m\u001b[0;34m:\u001b[0m\u001b[0;34m\u001b[0m\u001b[0;34m\u001b[0m\u001b[0m\n",
      "\u001b[0;31mNoSuchElementException\u001b[0m: Message: no such element: Unable to locate element: {\"method\":\"css selector\",\"selector\":\"#block-diabetes-content > div > div > div.recipes-listing > div > div.views-view-grid.horizontal.cols-12.clearfix > div > div:nth-child(1) > article > div.card__title > h3 > a > span\"}\n  (Session info: chrome=94.0.4606.81)\n"
     ]
    }
   ],
   "source": [
    "final_r = []\n",
    "final_n = []\n",
    "final_i = []\n",
    "for i in range(43, 44):\n",
    "    print(i)\n",
    "    receipes, nutricionals, ingredients = get_one(i)\n",
    "    final_r.append(receipes)\n",
    "    final_n.append(nutricionals)\n",
    "    final_i.append(ingredients)"
   ]
  },
  {
   "cell_type": "code",
   "execution_count": 18,
   "id": "direct-specific",
   "metadata": {},
   "outputs": [],
   "source": [
    "import pandas as pd"
   ]
  },
  {
   "cell_type": "code",
   "execution_count": 19,
   "id": "grave-oregon",
   "metadata": {},
   "outputs": [],
   "source": [
    "df_recipes = pd.DataFrame([lst2 for lst in final_r for lst2 in lst])\n",
    "df_nutricional = pd.DataFrame([lst2 for lst in final_n for lst2 in lst])\n",
    "df_ingredients = pd.DataFrame([lst2 for lst in final_i for lst2 in lst])"
   ]
  },
  {
   "cell_type": "code",
   "execution_count": 20,
   "id": "alleged-skill",
   "metadata": {},
   "outputs": [],
   "source": [
    "final = pd.concat([df_recipes, df_nutricional, df_ingredients], axis = 1)\n",
    "final.columns = [\"receipe\", \"nutricional\", \"ingredients\"]"
   ]
  },
  {
   "cell_type": "code",
   "execution_count": 21,
   "id": "dietary-anatomy",
   "metadata": {},
   "outputs": [],
   "source": [
    "final.to_csv(\"eight.csv\")"
   ]
  },
  {
   "cell_type": "markdown",
   "id": "452efb3f",
   "metadata": {},
   "source": [
    "#### All data together "
   ]
  },
  {
   "cell_type": "code",
   "execution_count": null,
   "id": "fe3632d5",
   "metadata": {},
   "outputs": [],
   "source": [
    "lst = [\"one\", \"two\", \"three\", \"four\", \"five\"]\n",
    "new_lst = []\n",
    "for i in lst:\n",
    "    df = pd.read_csv(f\"{i}.csv\")\n",
    "    new_lst.append(df)\n",
    "\n",
    "finall = pd.concat(new_lst)\n",
    "    "
   ]
  },
  {
   "cell_type": "code",
   "execution_count": null,
   "id": "thrown-garden",
   "metadata": {
    "scrolled": true
   },
   "outputs": [],
   "source": [
    "pd.set_option('display.max_columns', None)\n",
    "pd.set_option('display.expand_frame_repr', False)\n",
    "pd.set_option('max_colwidth', -1)\n",
    "final.head(1)"
   ]
  },
  {
   "cell_type": "markdown",
   "id": "guided-imperial",
   "metadata": {},
   "source": [
    "#### Para la columna de nutricional "
   ]
  },
  {
   "cell_type": "code",
   "execution_count": null,
   "id": "front-heading",
   "metadata": {},
   "outputs": [],
   "source": [
    "final[\"nutricional\"] = final[\"nutricional\"].apply(lambda x: x.split('\\n'))\n",
    "final[\"nutricional\"] = final[\"nutricional\"].apply(lambda x: x.split(','))"
   ]
  },
  {
   "cell_type": "code",
   "execution_count": null,
   "id": "sudden-digest",
   "metadata": {},
   "outputs": [],
   "source": [
    "final.head(1)"
   ]
  },
  {
   "cell_type": "code",
   "execution_count": null,
   "id": "identified-literature",
   "metadata": {},
   "outputs": [],
   "source": [
    "final_nutri = final[[\"receipe\", \"nutricional\"]]"
   ]
  },
  {
   "cell_type": "code",
   "execution_count": null,
   "id": "boolean-british",
   "metadata": {},
   "outputs": [],
   "source": [
    "final_nutri.head(1)"
   ]
  },
  {
   "cell_type": "code",
   "execution_count": null,
   "id": "confused-facility",
   "metadata": {},
   "outputs": [],
   "source": [
    "final_nutri = final_nutri.explode(\"nutricional\")"
   ]
  },
  {
   "cell_type": "code",
   "execution_count": null,
   "id": "thorough-america",
   "metadata": {},
   "outputs": [],
   "source": [
    "final_nutri.head()"
   ]
  },
  {
   "cell_type": "code",
   "execution_count": null,
   "id": "interracial-principle",
   "metadata": {},
   "outputs": [],
   "source": [
    "final_nutri.T"
   ]
  },
  {
   "cell_type": "markdown",
   "id": "passive-membership",
   "metadata": {},
   "source": [
    "#### Para la columna de ingredientes"
   ]
  },
  {
   "cell_type": "code",
   "execution_count": null,
   "id": "signal-repair",
   "metadata": {},
   "outputs": [],
   "source": [
    "s = pd.DataFrame(final['ingredients'].str.split('\\n').apply(pd.Series, 1).stack())\n",
    "s.index = s.index.droplevel(-1)"
   ]
  },
  {
   "cell_type": "code",
   "execution_count": null,
   "id": "blank-bicycle",
   "metadata": {},
   "outputs": [],
   "source": [
    "s.head(10)"
   ]
  },
  {
   "cell_type": "code",
   "execution_count": null,
   "id": "random-empty",
   "metadata": {},
   "outputs": [],
   "source": [
    "final_ingredients = final.join(s)\n",
    "final_ingredients.drop([\"nutricional\", \"ingredients\"], axis = 1, inplace = True)\n",
    "final_ingredients.columns = [\"receipe\", \"ingredients\"]"
   ]
  },
  {
   "cell_type": "code",
   "execution_count": null,
   "id": "smoking-compilation",
   "metadata": {},
   "outputs": [],
   "source": [
    "final_ingredients.head()"
   ]
  },
  {
   "cell_type": "code",
   "execution_count": null,
   "id": "administrative-driving",
   "metadata": {},
   "outputs": [],
   "source": [
    "table = pd.pivot_table(final_ingredients, index=['receipe', \"ingredients\"],\n",
    "                    columns=['receipe'])"
   ]
  },
  {
   "cell_type": "code",
   "execution_count": null,
   "id": "second-consciousness",
   "metadata": {},
   "outputs": [],
   "source": [
    "table"
   ]
  },
  {
   "cell_type": "code",
   "execution_count": null,
   "id": "massive-fossil",
   "metadata": {},
   "outputs": [],
   "source": [
    "table2 = table.reset_index(\"ingredients\")\n",
    "table2.set_index(table.groupby(level=0).cumcount().rename('ingredients'), append=True, drop = False)\n"
   ]
  },
  {
   "cell_type": "markdown",
   "id": "fed37154",
   "metadata": {},
   "source": [
    "**primera receta**\n",
    "\n",
    "#block-diabetes-content > div > div > div.recipes-listing > div > div.views-view-grid.horizontal.cols-12.clearfix > div > div:nth-child(1) > article > div.card__title > h3 > a > span\n",
    "\n",
    "**segunda receta**  \n",
    "\n",
    "#block-diabetes-content > div > div > div.recipes-listing > div > div.views-view-grid.horizontal.cols-12.clearfix > div > div:nth-child(2) > article > div.card__title > h3 > a > span\n",
    "\n",
    "\n",
    "**última receta de cada página**\n",
    "\n",
    "#block-diabetes-content > div > div > div.recipes-listing > div > div.views-view-grid.horizontal.cols-12.clearfix > div > div:nth-child(12) > article > div.card__title > h3 > a > span\n"
   ]
  },
  {
   "cell_type": "code",
   "execution_count": null,
   "id": "d9716879",
   "metadata": {},
   "outputs": [],
   "source": []
  }
 ],
 "metadata": {
  "kernelspec": {
   "display_name": "Selenium",
   "language": "python",
   "name": "selenium"
  },
  "language_info": {
   "codemirror_mode": {
    "name": "ipython",
    "version": 3
   },
   "file_extension": ".py",
   "mimetype": "text/x-python",
   "name": "python",
   "nbconvert_exporter": "python",
   "pygments_lexer": "ipython3",
   "version": "3.8.8"
  },
  "toc": {
   "base_numbering": 1,
   "nav_menu": {},
   "number_sections": true,
   "sideBar": true,
   "skip_h1_title": false,
   "title_cell": "Table of Contents",
   "title_sidebar": "Contents",
   "toc_cell": false,
   "toc_position": {},
   "toc_section_display": true,
   "toc_window_display": false
  },
  "varInspector": {
   "cols": {
    "lenName": 16,
    "lenType": 16,
    "lenVar": 40
   },
   "kernels_config": {
    "python": {
     "delete_cmd_postfix": "",
     "delete_cmd_prefix": "del ",
     "library": "var_list.py",
     "varRefreshCmd": "print(var_dic_list())"
    },
    "r": {
     "delete_cmd_postfix": ") ",
     "delete_cmd_prefix": "rm(",
     "library": "var_list.r",
     "varRefreshCmd": "cat(var_dic_list()) "
    }
   },
   "types_to_exclude": [
    "module",
    "function",
    "builtin_function_or_method",
    "instance",
    "_Feature"
   ],
   "window_display": false
  }
 },
 "nbformat": 4,
 "nbformat_minor": 5
}
