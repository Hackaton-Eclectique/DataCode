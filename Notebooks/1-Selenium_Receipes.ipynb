{
 "cells": [
  {
   "cell_type": "code",
   "execution_count": null,
   "id": "9c44ea68",
   "metadata": {},
   "outputs": [],
   "source": [
    "from selenium import webdriver\n",
    "from webdriver_manager.chrome import ChromeDriverManager\n",
    "from selenium.webdriver.chrome.options import Options\n",
    "from time import sleep\n",
    "from selenium.webdriver.support.ui import Select\n",
    "import pandas as pd\n",
    "\n",
    "import sys\n",
    "sys.path.append('../')\n",
    "\n",
    "import src.selenium_functions as sf"
   ]
  },
  {
   "cell_type": "code",
   "execution_count": null,
   "id": "d6964c11",
   "metadata": {},
   "outputs": [],
   "source": [
    "final_r = []\n",
    "final_n = []\n",
    "final_i = []\n",
    "for i in range(1, 43):\n",
    "    print(i)\n",
    "    receipes, nutricionals, ingredients = sf.get_one(i)\n",
    "    final_r.append(receipes)\n",
    "    final_n.append(nutricionals)\n",
    "    final_i.append(ingredients)"
   ]
  },
  {
   "cell_type": "code",
   "execution_count": null,
   "id": "grave-oregon",
   "metadata": {},
   "outputs": [],
   "source": [
    "df_recipes = pd.DataFrame([lst2 for lst in final_r for lst2 in lst])\n",
    "df_nutricional = pd.DataFrame([lst2 for lst in final_n for lst2 in lst])\n",
    "df_ingredients = pd.DataFrame([lst2 for lst in final_i for lst2 in lst])"
   ]
  },
  {
   "cell_type": "code",
   "execution_count": null,
   "id": "alleged-skill",
   "metadata": {},
   "outputs": [],
   "source": [
    "final = pd.concat([df_recipes, df_nutricional, df_ingredients], axis = 1)\n",
    "final.columns = [\"receipe\", \"nutricional\", \"ingredients\"]"
   ]
  },
  {
   "cell_type": "code",
   "execution_count": null,
   "id": "dietary-anatomy",
   "metadata": {},
   "outputs": [],
   "source": [
    "final.to_csv(\"eight.csv\")"
   ]
  },
  {
   "cell_type": "markdown",
   "id": "fed37154",
   "metadata": {},
   "source": [
    "**primera receta**\n",
    "\n",
    "#block-diabetes-content > div > div > div.recipes-listing > div > div.views-view-grid.horizontal.cols-12.clearfix > div > div:nth-child(1) > article > div.card__title > h3 > a > span\n",
    "\n",
    "**segunda receta**  \n",
    "\n",
    "#block-diabetes-content > div > div > div.recipes-listing > div > div.views-view-grid.horizontal.cols-12.clearfix > div > div:nth-child(2) > article > div.card__title > h3 > a > span\n",
    "\n",
    "\n",
    "**última receta de cada página**\n",
    "\n",
    "#block-diabetes-content > div > div > div.recipes-listing > div > div.views-view-grid.horizontal.cols-12.clearfix > div > div:nth-child(12) > article > div.card__title > h3 > a > span\n"
   ]
  },
  {
   "cell_type": "code",
   "execution_count": null,
   "id": "d9716879",
   "metadata": {},
   "outputs": [],
   "source": []
  }
 ],
 "metadata": {
  "kernelspec": {
   "display_name": "Selenium",
   "language": "python",
   "name": "selenium"
  },
  "language_info": {
   "codemirror_mode": {
    "name": "ipython",
    "version": 3
   },
   "file_extension": ".py",
   "mimetype": "text/x-python",
   "name": "python",
   "nbconvert_exporter": "python",
   "pygments_lexer": "ipython3",
   "version": "3.8.8"
  },
  "toc": {
   "base_numbering": 1,
   "nav_menu": {},
   "number_sections": true,
   "sideBar": true,
   "skip_h1_title": false,
   "title_cell": "Table of Contents",
   "title_sidebar": "Contents",
   "toc_cell": false,
   "toc_position": {},
   "toc_section_display": true,
   "toc_window_display": false
  },
  "varInspector": {
   "cols": {
    "lenName": 16,
    "lenType": 16,
    "lenVar": 40
   },
   "kernels_config": {
    "python": {
     "delete_cmd_postfix": "",
     "delete_cmd_prefix": "del ",
     "library": "var_list.py",
     "varRefreshCmd": "print(var_dic_list())"
    },
    "r": {
     "delete_cmd_postfix": ") ",
     "delete_cmd_prefix": "rm(",
     "library": "var_list.r",
     "varRefreshCmd": "cat(var_dic_list()) "
    }
   },
   "types_to_exclude": [
    "module",
    "function",
    "builtin_function_or_method",
    "instance",
    "_Feature"
   ],
   "window_display": false
  }
 },
 "nbformat": 4,
 "nbformat_minor": 5
}
