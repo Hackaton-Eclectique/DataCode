{
 "cells": [
  {
   "cell_type": "code",
   "execution_count": 2,
   "id": "ee992194",
   "metadata": {},
   "outputs": [],
   "source": [
    "import numpy as np\n",
    "import pandas as pd\n",
    "import datetime\n",
    "\n",
    "import sys\n",
    "sys.path.append('../')\n",
    "import src.generate_data as gd\n"
   ]
  },
  {
   "cell_type": "code",
   "execution_count": 3,
   "id": "7712c525",
   "metadata": {},
   "outputs": [],
   "source": [
    "fito =  gd.get_data('2020-01-01','2021-01-01')"
   ]
  },
  {
   "cell_type": "code",
   "execution_count": 4,
   "id": "6d4992c1",
   "metadata": {},
   "outputs": [
    {
     "data": {
      "text/html": [
       "<div>\n",
       "<style scoped>\n",
       "    .dataframe tbody tr th:only-of-type {\n",
       "        vertical-align: middle;\n",
       "    }\n",
       "\n",
       "    .dataframe tbody tr th {\n",
       "        vertical-align: top;\n",
       "    }\n",
       "\n",
       "    .dataframe thead th {\n",
       "        text-align: right;\n",
       "    }\n",
       "</style>\n",
       "<table border=\"1\" class=\"dataframe\">\n",
       "  <thead>\n",
       "    <tr style=\"text-align: right;\">\n",
       "      <th></th>\n",
       "      <th>Glucose</th>\n",
       "      <th>Date</th>\n",
       "    </tr>\n",
       "  </thead>\n",
       "  <tbody>\n",
       "    <tr>\n",
       "      <th>8419</th>\n",
       "      <td>138.0</td>\n",
       "      <td>2020-12-16 19:00:00</td>\n",
       "    </tr>\n",
       "    <tr>\n",
       "      <th>1725</th>\n",
       "      <td>157.0</td>\n",
       "      <td>2020-03-12 21:00:00</td>\n",
       "    </tr>\n",
       "    <tr>\n",
       "      <th>2021</th>\n",
       "      <td>176.0</td>\n",
       "      <td>2020-03-25 05:00:00</td>\n",
       "    </tr>\n",
       "    <tr>\n",
       "      <th>2611</th>\n",
       "      <td>151.0</td>\n",
       "      <td>2020-04-18 19:00:00</td>\n",
       "    </tr>\n",
       "    <tr>\n",
       "      <th>1574</th>\n",
       "      <td>121.0</td>\n",
       "      <td>2020-03-06 14:00:00</td>\n",
       "    </tr>\n",
       "  </tbody>\n",
       "</table>\n",
       "</div>"
      ],
      "text/plain": [
       "      Glucose                Date\n",
       "8419    138.0 2020-12-16 19:00:00\n",
       "1725    157.0 2020-03-12 21:00:00\n",
       "2021    176.0 2020-03-25 05:00:00\n",
       "2611    151.0 2020-04-18 19:00:00\n",
       "1574    121.0 2020-03-06 14:00:00"
      ]
     },
     "execution_count": 4,
     "metadata": {},
     "output_type": "execute_result"
    }
   ],
   "source": [
    "fito.sample(5)"
   ]
  },
  {
   "cell_type": "code",
   "execution_count": 5,
   "id": "cd1d94a7",
   "metadata": {},
   "outputs": [
    {
     "data": {
      "text/html": [
       "<div>\n",
       "<style scoped>\n",
       "    .dataframe tbody tr th:only-of-type {\n",
       "        vertical-align: middle;\n",
       "    }\n",
       "\n",
       "    .dataframe tbody tr th {\n",
       "        vertical-align: top;\n",
       "    }\n",
       "\n",
       "    .dataframe thead th {\n",
       "        text-align: right;\n",
       "    }\n",
       "</style>\n",
       "<table border=\"1\" class=\"dataframe\">\n",
       "  <thead>\n",
       "    <tr style=\"text-align: right;\">\n",
       "      <th></th>\n",
       "      <th>count</th>\n",
       "      <th>mean</th>\n",
       "      <th>std</th>\n",
       "      <th>min</th>\n",
       "      <th>25%</th>\n",
       "      <th>50%</th>\n",
       "      <th>75%</th>\n",
       "      <th>max</th>\n",
       "    </tr>\n",
       "  </thead>\n",
       "  <tbody>\n",
       "    <tr>\n",
       "      <th>Glucose</th>\n",
       "      <td>8784.0</td>\n",
       "      <td>140.175433</td>\n",
       "      <td>11.865266</td>\n",
       "      <td>101.0</td>\n",
       "      <td>132.0</td>\n",
       "      <td>140.0</td>\n",
       "      <td>148.0</td>\n",
       "      <td>185.0</td>\n",
       "    </tr>\n",
       "  </tbody>\n",
       "</table>\n",
       "</div>"
      ],
      "text/plain": [
       "          count        mean        std    min    25%    50%    75%    max\n",
       "Glucose  8784.0  140.175433  11.865266  101.0  132.0  140.0  148.0  185.0"
      ]
     },
     "execution_count": 5,
     "metadata": {},
     "output_type": "execute_result"
    }
   ],
   "source": [
    "fito.describe().T"
   ]
  },
  {
   "cell_type": "code",
   "execution_count": null,
   "id": "0ae1dd46",
   "metadata": {},
   "outputs": [],
   "source": [
    "fito.to_json(\"fito.json\")"
   ]
  },
  {
   "cell_type": "code",
   "execution_count": null,
   "id": "efa3895b",
   "metadata": {},
   "outputs": [],
   "source": [
    "import matplotlib.pyplot as plt "
   ]
  },
  {
   "cell_type": "code",
   "execution_count": null,
   "id": "ecce4d32",
   "metadata": {},
   "outputs": [],
   "source": [
    "plt.plot(final.Glucose)"
   ]
  },
  {
   "cell_type": "code",
   "execution_count": null,
   "id": "5e6db92f",
   "metadata": {},
   "outputs": [],
   "source": []
  }
 ],
 "metadata": {
  "kernelspec": {
   "display_name": "ironhack",
   "language": "python",
   "name": "ironhack"
  },
  "language_info": {
   "codemirror_mode": {
    "name": "ipython",
    "version": 3
   },
   "file_extension": ".py",
   "mimetype": "text/x-python",
   "name": "python",
   "nbconvert_exporter": "python",
   "pygments_lexer": "ipython3",
   "version": "3.8.5"
  },
  "toc": {
   "base_numbering": 1,
   "nav_menu": {},
   "number_sections": true,
   "sideBar": true,
   "skip_h1_title": false,
   "title_cell": "Table of Contents",
   "title_sidebar": "Contents",
   "toc_cell": false,
   "toc_position": {},
   "toc_section_display": true,
   "toc_window_display": false
  }
 },
 "nbformat": 4,
 "nbformat_minor": 5
}
