{
 "cells": [
  {
   "cell_type": "code",
   "execution_count": 2,
   "id": "54255b43",
   "metadata": {},
   "outputs": [],
   "source": [
    "import numpy as np\n",
    "import pandas as pd\n",
    "import datetime\n",
    "\n",
    "import sys\n",
    "sys.path.append('../')\n",
    "import src.generate_data as gd\n"
   ]
  },
  {
   "cell_type": "code",
   "execution_count": null,
   "id": "917c7176",
   "metadata": {},
   "outputs": [],
   "source": [
    "def get_data(date1, date2):\n",
    "    \n",
    "    #creamos los datos de glucosa para un dia y los hacemos dataframe\n",
    "    data = []\n",
    "    for _ in range(1,367):\n",
    "        s = pd.DataFrame(np.random.poisson(140, 24))\n",
    "        data.append(s)\n",
    "    glucose = pd.concat(data).reset_index()\n",
    "    glucose.drop([\"index\"], inplace = True, axis = 1)\n",
    "        \n",
    "    # creamos las fechas y las horas (frecuencia de una hora) y convertimos a dataframe\n",
    "    mydates = pd.date_range(date1, date2,  freq='H').tolist()\n",
    "    df2 = pd.DataFrame(mydates)\n",
    "    # concatenamos los dataframes\n",
    "    final = pd.concat([glucose, df2], axis = 1)\n",
    "    \n",
    "    # limpieza\n",
    "    final.columns = [\"Glucose\", \"Date\"]\n",
    "    \n",
    "    final = final.dropna()\n",
    "    final.set_index(\"Date\")\n",
    "    return final"
   ]
  },
  {
   "cell_type": "code",
   "execution_count": 3,
   "id": "d2799297",
   "metadata": {},
   "outputs": [],
   "source": [
    "fito =  gd.get_data('2020-01-01','2021-01-01')"
   ]
  },
  {
   "cell_type": "code",
   "execution_count": 4,
   "id": "c638b195",
   "metadata": {},
   "outputs": [
    {
     "data": {
      "text/html": [
       "<div>\n",
       "<style scoped>\n",
       "    .dataframe tbody tr th:only-of-type {\n",
       "        vertical-align: middle;\n",
       "    }\n",
       "\n",
       "    .dataframe tbody tr th {\n",
       "        vertical-align: top;\n",
       "    }\n",
       "\n",
       "    .dataframe thead th {\n",
       "        text-align: right;\n",
       "    }\n",
       "</style>\n",
       "<table border=\"1\" class=\"dataframe\">\n",
       "  <thead>\n",
       "    <tr style=\"text-align: right;\">\n",
       "      <th></th>\n",
       "      <th>Glucose</th>\n",
       "      <th>Date</th>\n",
       "    </tr>\n",
       "  </thead>\n",
       "  <tbody>\n",
       "    <tr>\n",
       "      <th>8419</th>\n",
       "      <td>138.0</td>\n",
       "      <td>2020-12-16 19:00:00</td>\n",
       "    </tr>\n",
       "    <tr>\n",
       "      <th>1725</th>\n",
       "      <td>157.0</td>\n",
       "      <td>2020-03-12 21:00:00</td>\n",
       "    </tr>\n",
       "    <tr>\n",
       "      <th>2021</th>\n",
       "      <td>176.0</td>\n",
       "      <td>2020-03-25 05:00:00</td>\n",
       "    </tr>\n",
       "    <tr>\n",
       "      <th>2611</th>\n",
       "      <td>151.0</td>\n",
       "      <td>2020-04-18 19:00:00</td>\n",
       "    </tr>\n",
       "    <tr>\n",
       "      <th>1574</th>\n",
       "      <td>121.0</td>\n",
       "      <td>2020-03-06 14:00:00</td>\n",
       "    </tr>\n",
       "  </tbody>\n",
       "</table>\n",
       "</div>"
      ],
      "text/plain": [
       "      Glucose                Date\n",
       "8419    138.0 2020-12-16 19:00:00\n",
       "1725    157.0 2020-03-12 21:00:00\n",
       "2021    176.0 2020-03-25 05:00:00\n",
       "2611    151.0 2020-04-18 19:00:00\n",
       "1574    121.0 2020-03-06 14:00:00"
      ]
     },
     "execution_count": 4,
     "metadata": {},
     "output_type": "execute_result"
    }
   ],
   "source": [
    "fito.sample(5)"
   ]
  },
  {
   "cell_type": "code",
   "execution_count": 5,
   "id": "872e3403",
   "metadata": {},
   "outputs": [
    {
     "data": {
      "text/html": [
       "<div>\n",
       "<style scoped>\n",
       "    .dataframe tbody tr th:only-of-type {\n",
       "        vertical-align: middle;\n",
       "    }\n",
       "\n",
       "    .dataframe tbody tr th {\n",
       "        vertical-align: top;\n",
       "    }\n",
       "\n",
       "    .dataframe thead th {\n",
       "        text-align: right;\n",
       "    }\n",
       "</style>\n",
       "<table border=\"1\" class=\"dataframe\">\n",
       "  <thead>\n",
       "    <tr style=\"text-align: right;\">\n",
       "      <th></th>\n",
       "      <th>count</th>\n",
       "      <th>mean</th>\n",
       "      <th>std</th>\n",
       "      <th>min</th>\n",
       "      <th>25%</th>\n",
       "      <th>50%</th>\n",
       "      <th>75%</th>\n",
       "      <th>max</th>\n",
       "    </tr>\n",
       "  </thead>\n",
       "  <tbody>\n",
       "    <tr>\n",
       "      <th>Glucose</th>\n",
       "      <td>8784.0</td>\n",
       "      <td>140.175433</td>\n",
       "      <td>11.865266</td>\n",
       "      <td>101.0</td>\n",
       "      <td>132.0</td>\n",
       "      <td>140.0</td>\n",
       "      <td>148.0</td>\n",
       "      <td>185.0</td>\n",
       "    </tr>\n",
       "  </tbody>\n",
       "</table>\n",
       "</div>"
      ],
      "text/plain": [
       "          count        mean        std    min    25%    50%    75%    max\n",
       "Glucose  8784.0  140.175433  11.865266  101.0  132.0  140.0  148.0  185.0"
      ]
     },
     "execution_count": 5,
     "metadata": {},
     "output_type": "execute_result"
    }
   ],
   "source": [
    "fito.describe().T"
   ]
  },
  {
   "cell_type": "code",
   "execution_count": null,
   "id": "a664b3d2",
   "metadata": {},
   "outputs": [],
   "source": [
    "fito.to_json(\"fito.json\")"
   ]
  },
  {
   "cell_type": "code",
   "execution_count": null,
   "id": "4fb762b8",
   "metadata": {},
   "outputs": [],
   "source": [
    "import matplotlib.pyplot as plt "
   ]
  },
  {
   "cell_type": "code",
   "execution_count": null,
   "id": "709091ca",
   "metadata": {},
   "outputs": [],
   "source": [
    "plt.plot(final.Glucose)"
   ]
  },
  {
   "cell_type": "code",
   "execution_count": null,
   "id": "ca399e50",
   "metadata": {},
   "outputs": [],
   "source": []
  }
 ],
 "metadata": {
  "kernelspec": {
   "display_name": "ironhack",
   "language": "python",
   "name": "ironhack"
  },
  "language_info": {
   "codemirror_mode": {
    "name": "ipython",
    "version": 3
   },
   "file_extension": ".py",
   "mimetype": "text/x-python",
   "name": "python",
   "nbconvert_exporter": "python",
   "pygments_lexer": "ipython3",
   "version": "3.8.5"
  },
  "toc": {
   "base_numbering": 1,
   "nav_menu": {},
   "number_sections": true,
   "sideBar": true,
   "skip_h1_title": false,
   "title_cell": "Table of Contents",
   "title_sidebar": "Contents",
   "toc_cell": false,
   "toc_position": {},
   "toc_section_display": true,
   "toc_window_display": false
  }
 },
 "nbformat": 4,
 "nbformat_minor": 5
}
