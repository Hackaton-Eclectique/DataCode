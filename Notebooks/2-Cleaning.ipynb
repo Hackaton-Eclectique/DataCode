{
 "cells": [
  {
   "cell_type": "code",
   "execution_count": 2,
   "id": "04d8642e",
   "metadata": {},
   "outputs": [],
   "source": [
    "import pandas as pd"
   ]
  },
  {
   "cell_type": "markdown",
   "id": "e6f575cb",
   "metadata": {},
   "source": [
    "## Concat all the datasets "
   ]
  },
  {
   "cell_type": "code",
   "execution_count": 3,
   "id": "3a08497d",
   "metadata": {},
   "outputs": [],
   "source": [
    "lst = [\"one\", \"two\", \"three\", \"four\", \"five\", \"six\", \"seven\", \"eight\"]\n",
    "new_lst = []\n",
    "for i in lst:\n",
    "    df = pd.read_csv(f\"../data/{i}.csv\")\n",
    "    new_lst.append(df)\n",
    "\n",
    "df = pd.concat(new_lst)\n",
    "    "
   ]
  },
  {
   "cell_type": "code",
   "execution_count": 4,
   "id": "415e06bc",
   "metadata": {},
   "outputs": [
    {
     "data": {
      "text/html": [
       "<div>\n",
       "<style scoped>\n",
       "    .dataframe tbody tr th:only-of-type {\n",
       "        vertical-align: middle;\n",
       "    }\n",
       "\n",
       "    .dataframe tbody tr th {\n",
       "        vertical-align: top;\n",
       "    }\n",
       "\n",
       "    .dataframe thead th {\n",
       "        text-align: right;\n",
       "    }\n",
       "</style>\n",
       "<table border=\"1\" class=\"dataframe\">\n",
       "  <thead>\n",
       "    <tr style=\"text-align: right;\">\n",
       "      <th></th>\n",
       "      <th>Unnamed: 0</th>\n",
       "      <th>receipe</th>\n",
       "      <th>nutricional</th>\n",
       "      <th>ingredients</th>\n",
       "    </tr>\n",
       "  </thead>\n",
       "  <tbody>\n",
       "    <tr>\n",
       "      <th>37</th>\n",
       "      <td>37</td>\n",
       "      <td>Chicken, mushroom and tarragon pie</td>\n",
       "      <td>Each 620g serving contains (excludes serving s...</td>\n",
       "      <td>Ingredients\\n2 tsp sunflower oil\\n1 large onio...</td>\n",
       "    </tr>\n",
       "    <tr>\n",
       "      <th>15</th>\n",
       "      <td>15</td>\n",
       "      <td>Warm bacon, flageolet bean and watercress salad</td>\n",
       "      <td>Each 186g serving contains (excludes serving s...</td>\n",
       "      <td>Ingredients\\n1 red pepper, halved and deseeded...</td>\n",
       "    </tr>\n",
       "    <tr>\n",
       "      <th>12</th>\n",
       "      <td>12</td>\n",
       "      <td>Apricot porridge with toasted seeds</td>\n",
       "      <td>Each 432g serving contains (excludes serving s...</td>\n",
       "      <td>Ingredients\\n50g ready-to-eat dried apricots\\n...</td>\n",
       "    </tr>\n",
       "    <tr>\n",
       "      <th>127</th>\n",
       "      <td>127</td>\n",
       "      <td>Seafood parcels</td>\n",
       "      <td>Each 307g serving contains (excludes serving s...</td>\n",
       "      <td>Ingredients\\n160g broccoli florets\\n100g salmo...</td>\n",
       "    </tr>\n",
       "    <tr>\n",
       "      <th>29</th>\n",
       "      <td>29</td>\n",
       "      <td>Prawn and vegetable tempura</td>\n",
       "      <td>Each 138g serving contains (excludes serving s...</td>\n",
       "      <td>Ingredients\\n1 egg yolk\\n125g plain flour, sif...</td>\n",
       "    </tr>\n",
       "  </tbody>\n",
       "</table>\n",
       "</div>"
      ],
      "text/plain": [
       "     Unnamed: 0                                          receipe  \\\n",
       "37           37               Chicken, mushroom and tarragon pie   \n",
       "15           15  Warm bacon, flageolet bean and watercress salad   \n",
       "12           12              Apricot porridge with toasted seeds   \n",
       "127         127                                  Seafood parcels   \n",
       "29           29                      Prawn and vegetable tempura   \n",
       "\n",
       "                                           nutricional  \\\n",
       "37   Each 620g serving contains (excludes serving s...   \n",
       "15   Each 186g serving contains (excludes serving s...   \n",
       "12   Each 432g serving contains (excludes serving s...   \n",
       "127  Each 307g serving contains (excludes serving s...   \n",
       "29   Each 138g serving contains (excludes serving s...   \n",
       "\n",
       "                                           ingredients  \n",
       "37   Ingredients\\n2 tsp sunflower oil\\n1 large onio...  \n",
       "15   Ingredients\\n1 red pepper, halved and deseeded...  \n",
       "12   Ingredients\\n50g ready-to-eat dried apricots\\n...  \n",
       "127  Ingredients\\n160g broccoli florets\\n100g salmo...  \n",
       "29   Ingredients\\n1 egg yolk\\n125g plain flour, sif...  "
      ]
     },
     "execution_count": 4,
     "metadata": {},
     "output_type": "execute_result"
    }
   ],
   "source": [
    "df.sample(5)"
   ]
  },
  {
   "cell_type": "code",
   "execution_count": 5,
   "id": "b56540a3",
   "metadata": {},
   "outputs": [
    {
     "data": {
      "text/plain": [
       "(516, 4)"
      ]
     },
     "execution_count": 5,
     "metadata": {},
     "output_type": "execute_result"
    }
   ],
   "source": [
    "df.shape"
   ]
  },
  {
   "cell_type": "code",
   "execution_count": 6,
   "id": "8b56d9da",
   "metadata": {},
   "outputs": [],
   "source": [
    "# save the full dataset\n",
    "df.to_csv(\"../data/full.csv\", index= False)"
   ]
  },
  {
   "cell_type": "markdown",
   "id": "4c4e818a",
   "metadata": {},
   "source": [
    "## Cleaning"
   ]
  },
  {
   "cell_type": "code",
   "execution_count": 3,
   "id": "b9ec50f2",
   "metadata": {},
   "outputs": [
    {
     "data": {
      "text/html": [
       "<div>\n",
       "<style scoped>\n",
       "    .dataframe tbody tr th:only-of-type {\n",
       "        vertical-align: middle;\n",
       "    }\n",
       "\n",
       "    .dataframe tbody tr th {\n",
       "        vertical-align: top;\n",
       "    }\n",
       "\n",
       "    .dataframe thead th {\n",
       "        text-align: right;\n",
       "    }\n",
       "</style>\n",
       "<table border=\"1\" class=\"dataframe\">\n",
       "  <thead>\n",
       "    <tr style=\"text-align: right;\">\n",
       "      <th></th>\n",
       "      <th>receipe</th>\n",
       "      <th>nutricional</th>\n",
       "      <th>ingredients</th>\n",
       "    </tr>\n",
       "    <tr>\n",
       "      <th>Unnamed: 0</th>\n",
       "      <th></th>\n",
       "      <th></th>\n",
       "      <th></th>\n",
       "    </tr>\n",
       "  </thead>\n",
       "  <tbody>\n",
       "    <tr>\n",
       "      <th>0</th>\n",
       "      <td>Harissa tomato tarts</td>\n",
       "      <td>['Each 310g serving contains (excludes serving...</td>\n",
       "      <td>Ingredients\\n180g 0% fat natural Greek yogurt,...</td>\n",
       "    </tr>\n",
       "    <tr>\n",
       "      <th>1</th>\n",
       "      <td>Aubergine and chickpea curry</td>\n",
       "      <td>['Each 568g serving contains (excludes serving...</td>\n",
       "      <td>Ingredients\\nCalorie-controlled cooking spray\\...</td>\n",
       "    </tr>\n",
       "    <tr>\n",
       "      <th>2</th>\n",
       "      <td>Steak &amp; pepper quesadillas</td>\n",
       "      <td>['Each 220g serving contains (excludes serving...</td>\n",
       "      <td>Ingredients\\nCalorie-controlled cooking spray\\...</td>\n",
       "    </tr>\n",
       "    <tr>\n",
       "      <th>3</th>\n",
       "      <td>Sausage &amp; bacon omelette</td>\n",
       "      <td>['Each 375g serving contains (excludes serving...</td>\n",
       "      <td>Ingredients\\nCalorie-controlled cooking spray\\...</td>\n",
       "    </tr>\n",
       "    <tr>\n",
       "      <th>4</th>\n",
       "      <td>2-ingredient pancakes</td>\n",
       "      <td>['Each 427g serving contains (excludes serving...</td>\n",
       "      <td>Ingredients\\n2 bananas, mashed\\n1 egg, lightly...</td>\n",
       "    </tr>\n",
       "  </tbody>\n",
       "</table>\n",
       "</div>"
      ],
      "text/plain": [
       "                                 receipe  \\\n",
       "Unnamed: 0                                 \n",
       "0                   Harissa tomato tarts   \n",
       "1           Aubergine and chickpea curry   \n",
       "2             Steak & pepper quesadillas   \n",
       "3               Sausage & bacon omelette   \n",
       "4                 2-ingredient pancakes    \n",
       "\n",
       "                                                  nutricional  \\\n",
       "Unnamed: 0                                                      \n",
       "0           ['Each 310g serving contains (excludes serving...   \n",
       "1           ['Each 568g serving contains (excludes serving...   \n",
       "2           ['Each 220g serving contains (excludes serving...   \n",
       "3           ['Each 375g serving contains (excludes serving...   \n",
       "4           ['Each 427g serving contains (excludes serving...   \n",
       "\n",
       "                                                  ingredients  \n",
       "Unnamed: 0                                                     \n",
       "0           Ingredients\\n180g 0% fat natural Greek yogurt,...  \n",
       "1           Ingredients\\nCalorie-controlled cooking spray\\...  \n",
       "2           Ingredients\\nCalorie-controlled cooking spray\\...  \n",
       "3           Ingredients\\nCalorie-controlled cooking spray\\...  \n",
       "4           Ingredients\\n2 bananas, mashed\\n1 egg, lightly...  "
      ]
     },
     "execution_count": 3,
     "metadata": {},
     "output_type": "execute_result"
    }
   ],
   "source": [
    "df_full = pd.read_csv(\"../data/full.csv\", index_col = 0)\n",
    "df_full.head()"
   ]
  },
  {
   "cell_type": "code",
   "execution_count": 5,
   "id": "9e5e3328",
   "metadata": {},
   "outputs": [
    {
     "data": {
      "text/plain": [
       "492"
      ]
     },
     "execution_count": 5,
     "metadata": {},
     "output_type": "execute_result"
    }
   ],
   "source": [
    "len(df_full.receipe.unique())"
   ]
  },
  {
   "cell_type": "markdown",
   "id": "4b74d2a5",
   "metadata": {},
   "source": [
    "### Nutricional column"
   ]
  },
  {
   "cell_type": "code",
   "execution_count": 157,
   "id": "709b4eb4",
   "metadata": {},
   "outputs": [],
   "source": [
    "nutri = df.drop([\"ingredients\"], axis = 1)"
   ]
  },
  {
   "cell_type": "code",
   "execution_count": 158,
   "id": "ac7a390a",
   "metadata": {},
   "outputs": [
    {
     "data": {
      "text/html": [
       "<div>\n",
       "<style scoped>\n",
       "    .dataframe tbody tr th:only-of-type {\n",
       "        vertical-align: middle;\n",
       "    }\n",
       "\n",
       "    .dataframe tbody tr th {\n",
       "        vertical-align: top;\n",
       "    }\n",
       "\n",
       "    .dataframe thead th {\n",
       "        text-align: right;\n",
       "    }\n",
       "</style>\n",
       "<table border=\"1\" class=\"dataframe\">\n",
       "  <thead>\n",
       "    <tr style=\"text-align: right;\">\n",
       "      <th></th>\n",
       "      <th>receipe</th>\n",
       "      <th>nutricional</th>\n",
       "    </tr>\n",
       "  </thead>\n",
       "  <tbody>\n",
       "    <tr>\n",
       "      <th>52</th>\n",
       "      <td>Mini spiced orange pancakes</td>\n",
       "      <td>Each 30g serving contains (excludes serving su...</td>\n",
       "    </tr>\n",
       "    <tr>\n",
       "      <th>17</th>\n",
       "      <td>Patatas bravas</td>\n",
       "      <td>Each 167g serving contains (excludes serving s...</td>\n",
       "    </tr>\n",
       "    <tr>\n",
       "      <th>90</th>\n",
       "      <td>Italian-style braised lamb steaks</td>\n",
       "      <td>Each 301g serving contains (excludes serving s...</td>\n",
       "    </tr>\n",
       "    <tr>\n",
       "      <th>60</th>\n",
       "      <td>Tandoori chicken and vegetables</td>\n",
       "      <td>Each 594g serving contains (excludes serving s...</td>\n",
       "    </tr>\n",
       "    <tr>\n",
       "      <th>12</th>\n",
       "      <td>Tofu goujons</td>\n",
       "      <td>Each 162g serving contains (excludes serving s...</td>\n",
       "    </tr>\n",
       "    <tr>\n",
       "      <th>113</th>\n",
       "      <td>Lamb curry</td>\n",
       "      <td>Each 319g serving contains (excludes serving s...</td>\n",
       "    </tr>\n",
       "    <tr>\n",
       "      <th>69</th>\n",
       "      <td>Marinated mackerel salad</td>\n",
       "      <td>Each 100g serving contains (excludes serving s...</td>\n",
       "    </tr>\n",
       "    <tr>\n",
       "      <th>12</th>\n",
       "      <td>Vegetarian lasagne</td>\n",
       "      <td>['Each 409g serving contains (excludes serving...</td>\n",
       "    </tr>\n",
       "    <tr>\n",
       "      <th>55</th>\n",
       "      <td>Mini summer puddings</td>\n",
       "      <td>Each 185g serving contains (excludes serving s...</td>\n",
       "    </tr>\n",
       "    <tr>\n",
       "      <th>127</th>\n",
       "      <td>Seafood parcels</td>\n",
       "      <td>Each 307g serving contains (excludes serving s...</td>\n",
       "    </tr>\n",
       "  </tbody>\n",
       "</table>\n",
       "</div>"
      ],
      "text/plain": [
       "                               receipe  \\\n",
       "52         Mini spiced orange pancakes   \n",
       "17                      Patatas bravas   \n",
       "90   Italian-style braised lamb steaks   \n",
       "60     Tandoori chicken and vegetables   \n",
       "12                        Tofu goujons   \n",
       "113                         Lamb curry   \n",
       "69            Marinated mackerel salad   \n",
       "12                  Vegetarian lasagne   \n",
       "55                Mini summer puddings   \n",
       "127                    Seafood parcels   \n",
       "\n",
       "                                           nutricional  \n",
       "52   Each 30g serving contains (excludes serving su...  \n",
       "17   Each 167g serving contains (excludes serving s...  \n",
       "90   Each 301g serving contains (excludes serving s...  \n",
       "60   Each 594g serving contains (excludes serving s...  \n",
       "12   Each 162g serving contains (excludes serving s...  \n",
       "113  Each 319g serving contains (excludes serving s...  \n",
       "69   Each 100g serving contains (excludes serving s...  \n",
       "12   ['Each 409g serving contains (excludes serving...  \n",
       "55   Each 185g serving contains (excludes serving s...  \n",
       "127  Each 307g serving contains (excludes serving s...  "
      ]
     },
     "execution_count": 158,
     "metadata": {},
     "output_type": "execute_result"
    }
   ],
   "source": [
    "nutri.drop([\"Unnamed: 0\"], axis = 1, inplace = True)\n",
    "nutri.sample(10)"
   ]
  },
  {
   "cell_type": "markdown",
   "id": "8454f8ff",
   "metadata": {},
   "source": [
    "### Ingredient column"
   ]
  },
  {
   "cell_type": "code",
   "execution_count": 7,
   "id": "374a1ea6",
   "metadata": {},
   "outputs": [],
   "source": [
    "s = pd.DataFrame(df_full['ingredients'].str.split('\\n').apply(pd.Series, 1).stack())\n",
    "s.index = s.index.droplevel(-1)"
   ]
  },
  {
   "cell_type": "code",
   "execution_count": 9,
   "id": "597c2109",
   "metadata": {},
   "outputs": [
    {
     "ename": "KeyError",
     "evalue": "\"['Unnamed: 0'] not found in axis\"",
     "output_type": "error",
     "traceback": [
      "\u001b[0;31m---------------------------------------------------------------------------\u001b[0m",
      "\u001b[0;31mKeyError\u001b[0m                                  Traceback (most recent call last)",
      "\u001b[0;32m<ipython-input-9-c893311cce55>\u001b[0m in \u001b[0;36m<module>\u001b[0;34m\u001b[0m\n\u001b[1;32m      1\u001b[0m \u001b[0mfinal_ingredients\u001b[0m \u001b[0;34m=\u001b[0m \u001b[0mdf_full\u001b[0m\u001b[0;34m.\u001b[0m\u001b[0mjoin\u001b[0m\u001b[0;34m(\u001b[0m\u001b[0ms\u001b[0m\u001b[0;34m)\u001b[0m\u001b[0;34m\u001b[0m\u001b[0;34m\u001b[0m\u001b[0m\n\u001b[0;32m----> 2\u001b[0;31m \u001b[0mfinal_ingredients\u001b[0m\u001b[0;34m.\u001b[0m\u001b[0mdrop\u001b[0m\u001b[0;34m(\u001b[0m\u001b[0;34m[\u001b[0m\u001b[0;34m\"nutricional\"\u001b[0m\u001b[0;34m,\u001b[0m \u001b[0;34m\"ingredients\"\u001b[0m\u001b[0;34m,\u001b[0m \u001b[0;34m\"Unnamed: 0\"\u001b[0m\u001b[0;34m]\u001b[0m\u001b[0;34m,\u001b[0m \u001b[0maxis\u001b[0m \u001b[0;34m=\u001b[0m \u001b[0;36m1\u001b[0m\u001b[0;34m,\u001b[0m \u001b[0minplace\u001b[0m \u001b[0;34m=\u001b[0m \u001b[0;32mTrue\u001b[0m\u001b[0;34m)\u001b[0m\u001b[0;34m\u001b[0m\u001b[0;34m\u001b[0m\u001b[0m\n\u001b[0m\u001b[1;32m      3\u001b[0m \u001b[0mfinal_ingredients\u001b[0m\u001b[0;34m.\u001b[0m\u001b[0mcolumns\u001b[0m \u001b[0;34m=\u001b[0m \u001b[0;34m[\u001b[0m\u001b[0;34m\"receipe\"\u001b[0m\u001b[0;34m,\u001b[0m \u001b[0;34m\"ingredients\"\u001b[0m\u001b[0;34m]\u001b[0m\u001b[0;34m\u001b[0m\u001b[0;34m\u001b[0m\u001b[0m\n",
      "\u001b[0;32m/usr/local/Caskroom/miniconda/base/envs/Selenium/lib/python3.8/site-packages/pandas/core/frame.py\u001b[0m in \u001b[0;36mdrop\u001b[0;34m(self, labels, axis, index, columns, level, inplace, errors)\u001b[0m\n\u001b[1;32m   4306\u001b[0m                 \u001b[0mweight\u001b[0m  \u001b[0;36m1.0\u001b[0m     \u001b[0;36m0.8\u001b[0m\u001b[0;34m\u001b[0m\u001b[0;34m\u001b[0m\u001b[0m\n\u001b[1;32m   4307\u001b[0m         \"\"\"\n\u001b[0;32m-> 4308\u001b[0;31m         return super().drop(\n\u001b[0m\u001b[1;32m   4309\u001b[0m             \u001b[0mlabels\u001b[0m\u001b[0;34m=\u001b[0m\u001b[0mlabels\u001b[0m\u001b[0;34m,\u001b[0m\u001b[0;34m\u001b[0m\u001b[0;34m\u001b[0m\u001b[0m\n\u001b[1;32m   4310\u001b[0m             \u001b[0maxis\u001b[0m\u001b[0;34m=\u001b[0m\u001b[0maxis\u001b[0m\u001b[0;34m,\u001b[0m\u001b[0;34m\u001b[0m\u001b[0;34m\u001b[0m\u001b[0m\n",
      "\u001b[0;32m/usr/local/Caskroom/miniconda/base/envs/Selenium/lib/python3.8/site-packages/pandas/core/generic.py\u001b[0m in \u001b[0;36mdrop\u001b[0;34m(self, labels, axis, index, columns, level, inplace, errors)\u001b[0m\n\u001b[1;32m   4151\u001b[0m         \u001b[0;32mfor\u001b[0m \u001b[0maxis\u001b[0m\u001b[0;34m,\u001b[0m \u001b[0mlabels\u001b[0m \u001b[0;32min\u001b[0m \u001b[0maxes\u001b[0m\u001b[0;34m.\u001b[0m\u001b[0mitems\u001b[0m\u001b[0;34m(\u001b[0m\u001b[0;34m)\u001b[0m\u001b[0;34m:\u001b[0m\u001b[0;34m\u001b[0m\u001b[0;34m\u001b[0m\u001b[0m\n\u001b[1;32m   4152\u001b[0m             \u001b[0;32mif\u001b[0m \u001b[0mlabels\u001b[0m \u001b[0;32mis\u001b[0m \u001b[0;32mnot\u001b[0m \u001b[0;32mNone\u001b[0m\u001b[0;34m:\u001b[0m\u001b[0;34m\u001b[0m\u001b[0;34m\u001b[0m\u001b[0m\n\u001b[0;32m-> 4153\u001b[0;31m                 \u001b[0mobj\u001b[0m \u001b[0;34m=\u001b[0m \u001b[0mobj\u001b[0m\u001b[0;34m.\u001b[0m\u001b[0m_drop_axis\u001b[0m\u001b[0;34m(\u001b[0m\u001b[0mlabels\u001b[0m\u001b[0;34m,\u001b[0m \u001b[0maxis\u001b[0m\u001b[0;34m,\u001b[0m \u001b[0mlevel\u001b[0m\u001b[0;34m=\u001b[0m\u001b[0mlevel\u001b[0m\u001b[0;34m,\u001b[0m \u001b[0merrors\u001b[0m\u001b[0;34m=\u001b[0m\u001b[0merrors\u001b[0m\u001b[0;34m)\u001b[0m\u001b[0;34m\u001b[0m\u001b[0;34m\u001b[0m\u001b[0m\n\u001b[0m\u001b[1;32m   4154\u001b[0m \u001b[0;34m\u001b[0m\u001b[0m\n\u001b[1;32m   4155\u001b[0m         \u001b[0;32mif\u001b[0m \u001b[0minplace\u001b[0m\u001b[0;34m:\u001b[0m\u001b[0;34m\u001b[0m\u001b[0;34m\u001b[0m\u001b[0m\n",
      "\u001b[0;32m/usr/local/Caskroom/miniconda/base/envs/Selenium/lib/python3.8/site-packages/pandas/core/generic.py\u001b[0m in \u001b[0;36m_drop_axis\u001b[0;34m(self, labels, axis, level, errors)\u001b[0m\n\u001b[1;32m   4186\u001b[0m                 \u001b[0mnew_axis\u001b[0m \u001b[0;34m=\u001b[0m \u001b[0maxis\u001b[0m\u001b[0;34m.\u001b[0m\u001b[0mdrop\u001b[0m\u001b[0;34m(\u001b[0m\u001b[0mlabels\u001b[0m\u001b[0;34m,\u001b[0m \u001b[0mlevel\u001b[0m\u001b[0;34m=\u001b[0m\u001b[0mlevel\u001b[0m\u001b[0;34m,\u001b[0m \u001b[0merrors\u001b[0m\u001b[0;34m=\u001b[0m\u001b[0merrors\u001b[0m\u001b[0;34m)\u001b[0m\u001b[0;34m\u001b[0m\u001b[0;34m\u001b[0m\u001b[0m\n\u001b[1;32m   4187\u001b[0m             \u001b[0;32melse\u001b[0m\u001b[0;34m:\u001b[0m\u001b[0;34m\u001b[0m\u001b[0;34m\u001b[0m\u001b[0m\n\u001b[0;32m-> 4188\u001b[0;31m                 \u001b[0mnew_axis\u001b[0m \u001b[0;34m=\u001b[0m \u001b[0maxis\u001b[0m\u001b[0;34m.\u001b[0m\u001b[0mdrop\u001b[0m\u001b[0;34m(\u001b[0m\u001b[0mlabels\u001b[0m\u001b[0;34m,\u001b[0m \u001b[0merrors\u001b[0m\u001b[0;34m=\u001b[0m\u001b[0merrors\u001b[0m\u001b[0;34m)\u001b[0m\u001b[0;34m\u001b[0m\u001b[0;34m\u001b[0m\u001b[0m\n\u001b[0m\u001b[1;32m   4189\u001b[0m             \u001b[0mresult\u001b[0m \u001b[0;34m=\u001b[0m \u001b[0mself\u001b[0m\u001b[0;34m.\u001b[0m\u001b[0mreindex\u001b[0m\u001b[0;34m(\u001b[0m\u001b[0;34m**\u001b[0m\u001b[0;34m{\u001b[0m\u001b[0maxis_name\u001b[0m\u001b[0;34m:\u001b[0m \u001b[0mnew_axis\u001b[0m\u001b[0;34m}\u001b[0m\u001b[0;34m)\u001b[0m\u001b[0;34m\u001b[0m\u001b[0;34m\u001b[0m\u001b[0m\n\u001b[1;32m   4190\u001b[0m \u001b[0;34m\u001b[0m\u001b[0m\n",
      "\u001b[0;32m/usr/local/Caskroom/miniconda/base/envs/Selenium/lib/python3.8/site-packages/pandas/core/indexes/base.py\u001b[0m in \u001b[0;36mdrop\u001b[0;34m(self, labels, errors)\u001b[0m\n\u001b[1;32m   5589\u001b[0m         \u001b[0;32mif\u001b[0m \u001b[0mmask\u001b[0m\u001b[0;34m.\u001b[0m\u001b[0many\u001b[0m\u001b[0;34m(\u001b[0m\u001b[0;34m)\u001b[0m\u001b[0;34m:\u001b[0m\u001b[0;34m\u001b[0m\u001b[0;34m\u001b[0m\u001b[0m\n\u001b[1;32m   5590\u001b[0m             \u001b[0;32mif\u001b[0m \u001b[0merrors\u001b[0m \u001b[0;34m!=\u001b[0m \u001b[0;34m\"ignore\"\u001b[0m\u001b[0;34m:\u001b[0m\u001b[0;34m\u001b[0m\u001b[0;34m\u001b[0m\u001b[0m\n\u001b[0;32m-> 5591\u001b[0;31m                 \u001b[0;32mraise\u001b[0m \u001b[0mKeyError\u001b[0m\u001b[0;34m(\u001b[0m\u001b[0;34mf\"{labels[mask]} not found in axis\"\u001b[0m\u001b[0;34m)\u001b[0m\u001b[0;34m\u001b[0m\u001b[0;34m\u001b[0m\u001b[0m\n\u001b[0m\u001b[1;32m   5592\u001b[0m             \u001b[0mindexer\u001b[0m \u001b[0;34m=\u001b[0m \u001b[0mindexer\u001b[0m\u001b[0;34m[\u001b[0m\u001b[0;34m~\u001b[0m\u001b[0mmask\u001b[0m\u001b[0;34m]\u001b[0m\u001b[0;34m\u001b[0m\u001b[0;34m\u001b[0m\u001b[0m\n\u001b[1;32m   5593\u001b[0m         \u001b[0;32mreturn\u001b[0m \u001b[0mself\u001b[0m\u001b[0;34m.\u001b[0m\u001b[0mdelete\u001b[0m\u001b[0;34m(\u001b[0m\u001b[0mindexer\u001b[0m\u001b[0;34m)\u001b[0m\u001b[0;34m\u001b[0m\u001b[0;34m\u001b[0m\u001b[0m\n",
      "\u001b[0;31mKeyError\u001b[0m: \"['Unnamed: 0'] not found in axis\""
     ]
    }
   ],
   "source": [
    "final_ingredients = df_full.join(s)\n",
    "final_ingredients.drop([\"nutricional\", \"ingredients\", \"Unnamed: 0\"], axis = 1, inplace = True)\n",
    "final_ingredients.columns = [\"receipe\", \"ingredients\"]"
   ]
  },
  {
   "cell_type": "code",
   "execution_count": 22,
   "id": "3defc580",
   "metadata": {},
   "outputs": [
    {
     "data": {
      "text/html": [
       "<div>\n",
       "<style scoped>\n",
       "    .dataframe tbody tr th:only-of-type {\n",
       "        vertical-align: middle;\n",
       "    }\n",
       "\n",
       "    .dataframe tbody tr th {\n",
       "        vertical-align: top;\n",
       "    }\n",
       "\n",
       "    .dataframe thead th {\n",
       "        text-align: right;\n",
       "    }\n",
       "</style>\n",
       "<table border=\"1\" class=\"dataframe\">\n",
       "  <thead>\n",
       "    <tr style=\"text-align: right;\">\n",
       "      <th></th>\n",
       "      <th>receipe</th>\n",
       "      <th>ingredients</th>\n",
       "    </tr>\n",
       "  </thead>\n",
       "  <tbody>\n",
       "    <tr>\n",
       "      <th>0</th>\n",
       "      <td>Harissa tomato tarts</td>\n",
       "      <td>Ingredients</td>\n",
       "    </tr>\n",
       "    <tr>\n",
       "      <th>0</th>\n",
       "      <td>Harissa tomato tarts</td>\n",
       "      <td>180g 0% fat natural Greek yogurt, plus 4tbsp t...</td>\n",
       "    </tr>\n",
       "    <tr>\n",
       "      <th>0</th>\n",
       "      <td>Harissa tomato tarts</td>\n",
       "      <td>180g self-raising flour, plus 2tsp for dusting</td>\n",
       "    </tr>\n",
       "    <tr>\n",
       "      <th>0</th>\n",
       "      <td>Harissa tomato tarts</td>\n",
       "      <td>1/2 small red onion, thinly sliced</td>\n",
       "    </tr>\n",
       "    <tr>\n",
       "      <th>0</th>\n",
       "      <td>Harissa tomato tarts</td>\n",
       "      <td>4 tomatoes, thickly sliced</td>\n",
       "    </tr>\n",
       "  </tbody>\n",
       "</table>\n",
       "</div>"
      ],
      "text/plain": [
       "                receipe                                        ingredients\n",
       "0  Harissa tomato tarts                                        Ingredients\n",
       "0  Harissa tomato tarts  180g 0% fat natural Greek yogurt, plus 4tbsp t...\n",
       "0  Harissa tomato tarts     180g self-raising flour, plus 2tsp for dusting\n",
       "0  Harissa tomato tarts                 1/2 small red onion, thinly sliced\n",
       "0  Harissa tomato tarts                         4 tomatoes, thickly sliced"
      ]
     },
     "execution_count": 22,
     "metadata": {},
     "output_type": "execute_result"
    }
   ],
   "source": [
    "final_ingredients.head()"
   ]
  },
  {
   "cell_type": "code",
   "execution_count": 145,
   "id": "7454db8e",
   "metadata": {},
   "outputs": [
    {
     "data": {
      "text/html": [
       "<div>\n",
       "<style scoped>\n",
       "    .dataframe tbody tr th:only-of-type {\n",
       "        vertical-align: middle;\n",
       "    }\n",
       "\n",
       "    .dataframe tbody tr th {\n",
       "        vertical-align: top;\n",
       "    }\n",
       "\n",
       "    .dataframe thead tr th {\n",
       "        text-align: left;\n",
       "    }\n",
       "\n",
       "    .dataframe thead tr:last-of-type th {\n",
       "        text-align: right;\n",
       "    }\n",
       "</style>\n",
       "<table border=\"1\" class=\"dataframe\">\n",
       "  <thead>\n",
       "    <tr>\n",
       "      <th>receipe</th>\n",
       "      <th>ingredients</th>\n",
       "    </tr>\n",
       "  </thead>\n",
       "  <tbody>\n",
       "    <tr>\n",
       "      <th rowspan=\"5\" valign=\"top\">2-ingredient pancakes</th>\n",
       "      <th>1 400g can cannellini beans, drained</th>\n",
       "    </tr>\n",
       "    <tr>\n",
       "      <th>1 clove garlic (optional), crushed</th>\n",
       "    </tr>\n",
       "    <tr>\n",
       "      <th>1 egg, lightly beaten</th>\n",
       "    </tr>\n",
       "    <tr>\n",
       "      <th>1 green chilli, finely chopped</th>\n",
       "    </tr>\n",
       "    <tr>\n",
       "      <th>1 large avocado</th>\n",
       "    </tr>\n",
       "    <tr>\n",
       "      <th>...</th>\n",
       "      <th>...</th>\n",
       "    </tr>\n",
       "    <tr>\n",
       "      <th rowspan=\"5\" valign=\"top\">Yogurt and vanilla panna cotta with summer fruits</th>\n",
       "      <th>80g frozen peas, defrosted</th>\n",
       "    </tr>\n",
       "    <tr>\n",
       "      <th>Ingredients</th>\n",
       "    </tr>\n",
       "    <tr>\n",
       "      <th>To serve:</th>\n",
       "    </tr>\n",
       "    <tr>\n",
       "      <th>juice and zest 1 lemon</th>\n",
       "    </tr>\n",
       "    <tr>\n",
       "      <th>watercress or salad leaves, plus sprigs of fresh dill and lemon wedges, to garnish</th>\n",
       "    </tr>\n",
       "  </tbody>\n",
       "</table>\n",
       "<p>11321 rows × 0 columns</p>\n",
       "</div>"
      ],
      "text/plain": [
       "Empty DataFrame\n",
       "Columns: []\n",
       "Index: [(2-ingredient pancakes , 1 400g can cannellini beans, drained), (2-ingredient pancakes , 1 clove garlic (optional), crushed), (2-ingredient pancakes , 1 egg, lightly beaten), (2-ingredient pancakes , 1 green chilli, finely chopped), (2-ingredient pancakes , 1 large avocado), (2-ingredient pancakes , 1 large banana), (2-ingredient pancakes , 1 large onion, chopped), (2-ingredient pancakes , 1 reduced-salt vegetable stock cube in 500ml water), (2-ingredient pancakes , 1 tsp agave syrup (optional)), (2-ingredient pancakes , 1 tsp fresh thyme, chopped), (2-ingredient pancakes , 100ml skimmed milk), (2-ingredient pancakes , 150g dried spaghetti), (2-ingredient pancakes , 150g mixed exotic or wild mushrooms), (2-ingredient pancakes , 150g pork mince), (2-ingredient pancakes , 150ml half-fat coconut milk), (2-ingredient pancakes , 2 bananas, mashed), (2-ingredient pancakes , 2 large Portobello mushrooms, sliced (150g)), (2-ingredient pancakes , 2 tbsp 0% fat natural Greek yogurt and fresh berries to serve), (2-ingredient pancakes , 2 tsp rapeseed oil), (2-ingredient pancakes , 2 tsp tomato purée), (2-ingredient pancakes , 200g closed cup mushrooms, sliced), (2-ingredient pancakes , 225g long grain rice), (2-ingredient pancakes , 3 spring onions, sliced), (2-ingredient pancakes , 3 tbsp 0% fat Greek-style yogurt), (2-ingredient pancakes , 4 slices wholemeal bread), (2-ingredient pancakes , 4 whole bulbs garlic, unpeeled with tops removed), (2-ingredient pancakes , 400g kidney beans), (2-ingredient pancakes , 450ml low-salt vegetable stock), (2-ingredient pancakes , 500g passata), (2-ingredient pancakes , 75g cashew nuts), (2-ingredient pancakes , Calorie-controlled cooking spray), (2-ingredient pancakes , Ingredients), (2-ingredient pancakes , black pepper to taste), (2-ingredient pancakes , fresh thyme leaves, to serve (optional)), (2-ingredient pancakes , freshly ground black pepper), (2-ingredient pancakes , good pinch white pepper), (2-ingredient pancakes , half small onion, finely sliced), (2-ingredient pancakes , half tsp dried oregano), (2-ingredient pancakes , half tsp dried thyme), (Apple & cranberry bircher muesli, 1 heaped tsp ground ginger), (Apple & cranberry bircher muesli, 1 large sweet potato, cubed (300g)), (Apple & cranberry bircher muesli, 1 low-salt vegetable stock cube, dissolved in 400ml water), (Apple & cranberry bircher muesli, 1 pack 16 blinis (approx 160g)), (Apple & cranberry bircher muesli, 1 red pepper, chopped), (Apple & cranberry bircher muesli, 1 tbsp 50% less fat cream cheese), (Apple & cranberry bircher muesli, 1 tbsp low-fat yogurt), (Apple & cranberry bircher muesli, 1 tbsp medium curry powder paste), (Apple & cranberry bircher muesli, 1 tbsp pumpkin seeds), (Apple & cranberry bircher muesli, 1 tbsp sunflower seeds), (Apple & cranberry bircher muesli, 1 tsp baking powder), (Apple & cranberry bircher muesli, 1 tsp ground cumin), (Apple & cranberry bircher muesli, 100g blueberries), (Apple & cranberry bircher muesli, 100g paneer), (Apple & cranberry bircher muesli, 100g watercress), (Apple & cranberry bircher muesli, 100g wholemeal flour), (Apple & cranberry bircher muesli, 100ml skimmed milk), (Apple & cranberry bircher muesli, 120g porridge oats), (Apple & cranberry bircher muesli, 150g fat-free natural yogurt), (Apple & cranberry bircher muesli, 2 eggs, beaten), (Apple & cranberry bircher muesli, 2 onions, chopped), (Apple & cranberry bircher muesli, 2 salmon steaks (125g each)), (Apple & cranberry bircher muesli, 2 squeezes lemon juice), (Apple & cranberry bircher muesli, 2 tbsp 0% fat yogurt), (Apple & cranberry bircher muesli, 2 tbsp granulated sweetener), (Apple & cranberry bircher muesli, 2 tbsp low-fat yoghurt), (Apple & cranberry bircher muesli, 2 tbsp water), (Apple & cranberry bircher muesli, 2 tsp oil), (Apple & cranberry bircher muesli, 2 tsp turmeric), (Apple & cranberry bircher muesli, 2 tsp vanilla extract), (Apple & cranberry bircher muesli, 200g raspberries), (Apple & cranberry bircher muesli, 200g strawberries, hulled), (Apple & cranberry bircher muesli, 240g chickpeas, drained), (Apple & cranberry bircher muesli, 3 apples, peeled, cored and grated), (Apple & cranberry bircher muesli, 3 cloves garlic, crushed), (Apple & cranberry bircher muesli, 3 tbsp rapeseed oil), (Apple & cranberry bircher muesli, 3 tsp chia seeds and 1 apples, cored and diced, to serve), (Apple & cranberry bircher muesli, 30g caster sugar), (Apple & cranberry bircher muesli, 4 gelatine leaves), (Apple & cranberry bircher muesli, 4 tbsp milk), (Apple & cranberry bircher muesli, 40g dried cranberries), (Apple & cranberry bircher muesli, 500g cauliflower, in small florets), (Apple & cranberry bircher muesli, 500g chopped rhubarb), (Apple & cranberry bircher muesli, 600g natural yogurt), (Apple & cranberry bircher muesli, 80g frozen peas, defrosted), (Apple & cranberry bircher muesli, Ingredients), (Apple & cranberry bircher muesli, To serve:), (Apple & cranberry bircher muesli, juice and zest 1 lemon), (Apple & cranberry bircher muesli, watercress or salad leaves, plus sprigs of fresh dill and lemon wedges, to garnish), (Aubergine and chickpea curry, 1 -2 tsp granulated sweetener), (Aubergine and chickpea curry, 1 eating apple, quartered and cored), (Aubergine and chickpea curry, 1 large pear, quartered and cored), (Aubergine and chickpea curry, 1 lemon, halved), (Aubergine and chickpea curry, 1 red onion, finely sliced), (Aubergine and chickpea curry, 1 small onion, cut into wedges), (Aubergine and chickpea curry, 1 star anise), (Aubergine and chickpea curry, 1 tbsp wholegrain mustard), (Aubergine and chickpea curry, 1 tsp fresh thyme or half tsp dried), (Aubergine and chickpea curry, 1 tsp ginger), (Aubergine and chickpea curry, 1 tsp mixed spice), (Aubergine and chickpea curry, 1 tsp rapeseed oil), ...]\n",
       "\n",
       "[11321 rows x 0 columns]"
      ]
     },
     "execution_count": 145,
     "metadata": {},
     "output_type": "execute_result"
    }
   ],
   "source": [
    "final_ingredients.pivot_table(index=['receipe', 'ingredients'],columns='receipe',dropna=True, aggfunc='first')\n",
    "#final_ingredients.set_index(final_ingredients.groupby(level=0).cumcount().rename('receipe'), append=True, drop = False)\n"
   ]
  },
  {
   "cell_type": "code",
   "execution_count": 149,
   "id": "d4227df1",
   "metadata": {},
   "outputs": [],
   "source": [
    "final_ingredients.to_csv(\"ingredients.csv\", index= False)"
   ]
  },
  {
   "cell_type": "code",
   "execution_count": null,
   "id": "740b8eaa",
   "metadata": {},
   "outputs": [],
   "source": []
  }
 ],
 "metadata": {
  "kernelspec": {
   "display_name": "Selenium",
   "language": "python",
   "name": "selenium"
  },
  "language_info": {
   "codemirror_mode": {
    "name": "ipython",
    "version": 3
   },
   "file_extension": ".py",
   "mimetype": "text/x-python",
   "name": "python",
   "nbconvert_exporter": "python",
   "pygments_lexer": "ipython3",
   "version": "3.8.8"
  },
  "toc": {
   "base_numbering": 1,
   "nav_menu": {},
   "number_sections": true,
   "sideBar": true,
   "skip_h1_title": false,
   "title_cell": "Table of Contents",
   "title_sidebar": "Contents",
   "toc_cell": false,
   "toc_position": {},
   "toc_section_display": true,
   "toc_window_display": false
  }
 },
 "nbformat": 4,
 "nbformat_minor": 5
}
