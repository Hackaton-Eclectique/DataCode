{
 "cells": [
  {
   "cell_type": "code",
   "execution_count": 1,
   "id": "626ccae5",
   "metadata": {},
   "outputs": [],
   "source": [
    "import pandas as pd"
   ]
  },
  {
   "cell_type": "code",
   "execution_count": 18,
   "id": "a95db614",
   "metadata": {},
   "outputs": [],
   "source": [
    "all_data = []\n",
    "for i in range(1,71):\n",
    "    try:\n",
    "        all_data.append(pd.read_csv(f\"../data/Diabetes-Data/data-0{i}\", sep=\"\\t\", header = None))\n",
    "    except:\n",
    "        all_data.append(pd.read_csv(f\"../data/Diabetes-Data/data-{i}\", sep=\"\\t\", header = None))\n",
    "\n",
    "df = pd.concat(all_data)\n",
    "df.columns = [\"date\", \"hour\", \"code\", \"levels\"]"
   ]
  },
  {
   "cell_type": "code",
   "execution_count": 19,
   "id": "f2b87c95",
   "metadata": {},
   "outputs": [
    {
     "data": {
      "text/html": [
       "<div>\n",
       "<style scoped>\n",
       "    .dataframe tbody tr th:only-of-type {\n",
       "        vertical-align: middle;\n",
       "    }\n",
       "\n",
       "    .dataframe tbody tr th {\n",
       "        vertical-align: top;\n",
       "    }\n",
       "\n",
       "    .dataframe thead th {\n",
       "        text-align: right;\n",
       "    }\n",
       "</style>\n",
       "<table border=\"1\" class=\"dataframe\">\n",
       "  <thead>\n",
       "    <tr style=\"text-align: right;\">\n",
       "      <th></th>\n",
       "      <th>date</th>\n",
       "      <th>hour</th>\n",
       "      <th>code</th>\n",
       "      <th>levels</th>\n",
       "    </tr>\n",
       "  </thead>\n",
       "  <tbody>\n",
       "    <tr>\n",
       "      <th>0</th>\n",
       "      <td>04-21-1991</td>\n",
       "      <td>9:09</td>\n",
       "      <td>58</td>\n",
       "      <td>100</td>\n",
       "    </tr>\n",
       "    <tr>\n",
       "      <th>1</th>\n",
       "      <td>04-21-1991</td>\n",
       "      <td>9:09</td>\n",
       "      <td>33</td>\n",
       "      <td>9</td>\n",
       "    </tr>\n",
       "    <tr>\n",
       "      <th>2</th>\n",
       "      <td>04-21-1991</td>\n",
       "      <td>9:09</td>\n",
       "      <td>34</td>\n",
       "      <td>13</td>\n",
       "    </tr>\n",
       "    <tr>\n",
       "      <th>3</th>\n",
       "      <td>04-21-1991</td>\n",
       "      <td>17:08</td>\n",
       "      <td>62</td>\n",
       "      <td>119</td>\n",
       "    </tr>\n",
       "    <tr>\n",
       "      <th>4</th>\n",
       "      <td>04-21-1991</td>\n",
       "      <td>17:08</td>\n",
       "      <td>33</td>\n",
       "      <td>7</td>\n",
       "    </tr>\n",
       "  </tbody>\n",
       "</table>\n",
       "</div>"
      ],
      "text/plain": [
       "         date   hour  code levels\n",
       "0  04-21-1991   9:09    58    100\n",
       "1  04-21-1991   9:09    33      9\n",
       "2  04-21-1991   9:09    34     13\n",
       "3  04-21-1991  17:08    62    119\n",
       "4  04-21-1991  17:08    33      7"
      ]
     },
     "execution_count": 19,
     "metadata": {},
     "output_type": "execute_result"
    }
   ],
   "source": [
    "df.head()"
   ]
  },
  {
   "cell_type": "code",
   "execution_count": 24,
   "id": "a51580dc",
   "metadata": {},
   "outputs": [],
   "source": [
    "# change codes\n",
    "codes = {\n",
    "        33 : 'Regular insulin dose',\n",
    "        34 : 'NPH insulin dose',\n",
    "        35 : 'UltraLente insulin dose',\n",
    "        48 : 'Unspecified blood glucose measurement',\n",
    "        57 : 'Unspecified blood glucose measurement',\n",
    "        58 : 'Pre-breakfast blood glucose measurement', # con info\n",
    "        59 : 'Post-breakfast blood glucose measurement', # con info\n",
    "        60 : 'Pre-lunch blood glucose measurement', # con info\n",
    "        61 : 'Post-lunch blood glucose measurement',\n",
    "        62 : 'Pre-supper blood glucose measurement',\n",
    "        63 : 'Post-supper blood glucose measurement',\n",
    "        64 : 'Pre-snack blood glucose measurement',\n",
    "        65 : 'Hypoglycemic symptoms', # sin info\n",
    "        66 : 'Typical meal ingestion',\n",
    "        67 : 'More-than-usual meal ingestion',\n",
    "        68 : 'Less-than-usual meal ingestion',\n",
    "        69 : 'Typical exercise activity',\n",
    "        70 : 'More-than-usual exercise activity',\n",
    "        71 : 'Less-than-usual exercise activity',\n",
    "        72 : 'Unspecified special event'\n",
    "        }\n",
    "df[\"code\"] = df[\"code\"].map(codes)"
   ]
  },
  {
   "cell_type": "code",
   "execution_count": 33,
   "id": "888ede22",
   "metadata": {},
   "outputs": [
    {
     "data": {
      "text/plain": [
       "(29330, 4)"
      ]
     },
     "execution_count": 33,
     "metadata": {},
     "output_type": "execute_result"
    }
   ],
   "source": [
    "df.shape"
   ]
  },
  {
   "cell_type": "code",
   "execution_count": 44,
   "id": "756600c4",
   "metadata": {
    "scrolled": true
   },
   "outputs": [
    {
     "data": {
      "text/plain": [
       "array([281, 73, 242, 168, 87, 339, 219, 187, 59, 194, 82, 258, 162, 226,\n",
       "       225, 49], dtype=object)"
      ]
     },
     "execution_count": 44,
     "metadata": {},
     "output_type": "execute_result"
    }
   ],
   "source": [
    "df[df[\"code\"] ==\"Post-breakfast blood glucose measurement\"].levels.unique()"
   ]
  },
  {
   "cell_type": "code",
   "execution_count": null,
   "id": "08b2f9d0",
   "metadata": {},
   "outputs": [],
   "source": []
  }
 ],
 "metadata": {
  "kernelspec": {
   "display_name": "ironhack",
   "language": "python",
   "name": "ironhack"
  },
  "language_info": {
   "codemirror_mode": {
    "name": "ipython",
    "version": 3
   },
   "file_extension": ".py",
   "mimetype": "text/x-python",
   "name": "python",
   "nbconvert_exporter": "python",
   "pygments_lexer": "ipython3",
   "version": "3.8.5"
  },
  "toc": {
   "base_numbering": 1,
   "nav_menu": {},
   "number_sections": true,
   "sideBar": true,
   "skip_h1_title": false,
   "title_cell": "Table of Contents",
   "title_sidebar": "Contents",
   "toc_cell": false,
   "toc_position": {},
   "toc_section_display": true,
   "toc_window_display": false
  }
 },
 "nbformat": 4,
 "nbformat_minor": 5
}
