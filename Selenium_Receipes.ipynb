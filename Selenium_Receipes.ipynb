{
 "cells": [
  {
   "cell_type": "code",
   "execution_count": 1,
   "id": "9c44ea68",
   "metadata": {},
   "outputs": [],
   "source": [
    "from selenium import webdriver\n",
    "from webdriver_manager.chrome import ChromeDriverManager\n",
    "from selenium.webdriver.chrome.options import Options\n",
    "from time import sleep"
   ]
  },
  {
   "cell_type": "code",
   "execution_count": 2,
   "id": "60c29b22",
   "metadata": {},
   "outputs": [],
   "source": [
    "opciones=Options()\n",
    "opciones.add_experimental_option('excludeSwitches', ['enable-automation'])\n",
    "opciones.add_experimental_option('useAutomationExtension', False)\n",
    "opciones.headless=False    # si True, no aperece la ventana (headless=no visible)\n",
    "opciones.add_argument('--start-maximized')         # comienza maximizado\n",
    "opciones.add_argument('user-data-dir=selenium')    # mantiene las cookies\n",
    "opciones.add_argument('--incognito')"
   ]
  },
  {
   "cell_type": "code",
   "execution_count": 3,
   "id": "c62e352c",
   "metadata": {},
   "outputs": [],
   "source": [
    "def get_one_page(num):\n",
    "    receipes = []\n",
    "    nutricionals = []\n",
    "    for i in range(1,3):\n",
    "            driver = webdriver.Chrome(ChromeDriverManager().install(), options = opciones)\n",
    "\n",
    "            driver.get(f\"https://www.diabetes.org.uk/guide-to-diabetes/recipes?_wrapper_format=html&page={num}\")\n",
    "            sleep(5)\n",
    "            driver.find_element_by_css_selector(\"body > div.optanon-alert-box-wrapper > div.optanon-alert-box-bg > div.optanon-alert-box-button-container > div.optanon-alert-box-button.optanon-button-allow > div\").click() # aceptar cookies\n",
    "            sleep(5)\n",
    "            try:\n",
    "                driver.find_element_by_css_selector(f\"#block-diabetes-content > div > div > div.recipes-listing > div > div.views-view-grid.horizontal.cols-12.clearfix > div > div:nth-child({i}) > article > div.card__title > h3 > a > span\").click() # acceder a la primera receta\n",
    "                print(f\"receta {i} 1\")\n",
    "                sleep(5)\n",
    "                print(\"cogiendo datos 1\")\n",
    "                receipe = driver.find_element_by_css_selector(\"#block-diabetes-content > div > div > div:nth-child(1) > h1\").text\n",
    "                receipes.append(receipe)\n",
    "                nutricional = driver.find_element_by_css_selector(\"#block-diabetes-content > article > div > div:nth-child(1) > div:nth-child(2) > section\").text\n",
    "                nutricionals.append(nutricional)\n",
    "                sleep(5)\n",
    "                driver.quit()\n",
    "            except : \n",
    "                driver.find_element_by_css_selector(\"#fe-popup-close\").click() #acepto el popup\n",
    "                driver.find_element_by_css_selector(f\"#block-diabetes-content > div > div > div.recipes-listing > div > div.views-view-grid.horizontal.cols-12.clearfix > div > div:nth-child({i}) > article > div.card__title > h3 > a > span\").click() # acceder a la primera receta\n",
    "\n",
    "                print(f\"receta {i} 1\")\n",
    "                sleep(5)\n",
    "                print(\"cogiendo datos 1\")\n",
    "                receipe = driver.find_element_by_css_selector(\"#block-diabetes-content > div > div > div:nth-child(1) > h1\").text\n",
    "                receipes.append(receipe)\n",
    "                nutricional = driver.find_element_by_css_selector(\"#block-diabetes-content > article > div > div:nth-child(1) > div:nth-child(2) > section\").text\n",
    "                nutricionals.append(nutricional)\n",
    "                sleep(5)\n",
    "                driver.quit()\n",
    "    return receipes, nutricionals\n",
    "\n",
    "#driver.find_element_by_css_selector(\"#block-diabetes-content > div > div > div.recipes-listing > div > div.views-view-grid.horizontal.cols-12.clearfix > div > div:nth-child(1) > article > div.card__title > h3 > a > span\").click() # acceder a la primera receta\n"
   ]
  },
  {
   "cell_type": "code",
   "execution_count": 4,
   "id": "532d78ae",
   "metadata": {},
   "outputs": [
    {
     "name": "stderr",
     "output_type": "stream",
     "text": [
      "\n",
      "\n",
      "====== WebDriver manager ======\n",
      "Current google-chrome version is 94.0.4606\n",
      "Get LATEST driver version for 94.0.4606\n",
      "Driver [/Users/anagarciagarcia/.wdm/drivers/chromedriver/mac64/94.0.4606.61/chromedriver] found in cache\n"
     ]
    },
    {
     "name": "stdout",
     "output_type": "stream",
     "text": [
      "receta 1 1\n",
      "cogiendo datos 1\n"
     ]
    },
    {
     "name": "stderr",
     "output_type": "stream",
     "text": [
      "\n",
      "\n",
      "====== WebDriver manager ======\n",
      "Current google-chrome version is 94.0.4606\n",
      "Get LATEST driver version for 94.0.4606\n",
      "Driver [/Users/anagarciagarcia/.wdm/drivers/chromedriver/mac64/94.0.4606.61/chromedriver] found in cache\n"
     ]
    },
    {
     "name": "stdout",
     "output_type": "stream",
     "text": [
      "receta 2 1\n",
      "cogiendo datos 1\n"
     ]
    },
    {
     "name": "stderr",
     "output_type": "stream",
     "text": [
      "\n",
      "\n",
      "====== WebDriver manager ======\n",
      "Current google-chrome version is 94.0.4606\n",
      "Get LATEST driver version for 94.0.4606\n",
      "Driver [/Users/anagarciagarcia/.wdm/drivers/chromedriver/mac64/94.0.4606.61/chromedriver] found in cache\n"
     ]
    },
    {
     "name": "stdout",
     "output_type": "stream",
     "text": [
      "receta 1 1\n",
      "cogiendo datos 1\n"
     ]
    },
    {
     "name": "stderr",
     "output_type": "stream",
     "text": [
      "\n",
      "\n",
      "====== WebDriver manager ======\n",
      "Current google-chrome version is 94.0.4606\n",
      "Get LATEST driver version for 94.0.4606\n",
      "Driver [/Users/anagarciagarcia/.wdm/drivers/chromedriver/mac64/94.0.4606.61/chromedriver] found in cache\n"
     ]
    },
    {
     "name": "stdout",
     "output_type": "stream",
     "text": [
      "receta 2 1\n",
      "cogiendo datos 1\n"
     ]
    }
   ],
   "source": [
    "final_r = []\n",
    "final_n = []\n",
    "for i in range(1, 3):\n",
    "    receipes, nutricionals = get_one_page(i)\n",
    "    final_r.append(receipes)\n",
    "    final_n.append(nutricionals)"
   ]
  },
  {
   "cell_type": "code",
   "execution_count": 5,
   "id": "f99c584c",
   "metadata": {},
   "outputs": [
    {
     "data": {
      "text/plain": [
       "[['Harissa tomato tarts', 'Aubergine and chickpea curry'],\n",
       " ['Vegetarian lasagne', 'Spicy vegetable samosas']]"
      ]
     },
     "execution_count": 5,
     "metadata": {},
     "output_type": "execute_result"
    }
   ],
   "source": [
    "final_r"
   ]
  },
  {
   "cell_type": "code",
   "execution_count": 6,
   "id": "2a5ad7bf",
   "metadata": {},
   "outputs": [
    {
     "data": {
      "text/html": [
       "<div>\n",
       "<style scoped>\n",
       "    .dataframe tbody tr th:only-of-type {\n",
       "        vertical-align: middle;\n",
       "    }\n",
       "\n",
       "    .dataframe tbody tr th {\n",
       "        vertical-align: top;\n",
       "    }\n",
       "\n",
       "    .dataframe thead th {\n",
       "        text-align: right;\n",
       "    }\n",
       "</style>\n",
       "<table border=\"1\" class=\"dataframe\">\n",
       "  <thead>\n",
       "    <tr style=\"text-align: right;\">\n",
       "      <th></th>\n",
       "      <th>0</th>\n",
       "      <th>1</th>\n",
       "    </tr>\n",
       "  </thead>\n",
       "  <tbody>\n",
       "    <tr>\n",
       "      <th>0</th>\n",
       "      <td>Harissa tomato tarts</td>\n",
       "      <td>Aubergine and chickpea curry</td>\n",
       "    </tr>\n",
       "    <tr>\n",
       "      <th>1</th>\n",
       "      <td>Vegetarian lasagne</td>\n",
       "      <td>Spicy vegetable samosas</td>\n",
       "    </tr>\n",
       "  </tbody>\n",
       "</table>\n",
       "</div>"
      ],
      "text/plain": [
       "                      0                             1\n",
       "0  Harissa tomato tarts  Aubergine and chickpea curry\n",
       "1    Vegetarian lasagne       Spicy vegetable samosas"
      ]
     },
     "execution_count": 6,
     "metadata": {},
     "output_type": "execute_result"
    }
   ],
   "source": [
    "import pandas as pd\n",
    "\n",
    "pd.DataFrame(final_r)"
   ]
  },
  {
   "cell_type": "code",
   "execution_count": 12,
   "id": "53c1678f",
   "metadata": {},
   "outputs": [],
   "source": [
    "defi = []\n",
    "for lst in final_r:\n",
    "    for lst2 in lst:\n",
    "        defi.append(lst2)\n",
    "df2 = pd.DataFrame(defi)"
   ]
  },
  {
   "cell_type": "code",
   "execution_count": 11,
   "id": "0a5994ef",
   "metadata": {},
   "outputs": [],
   "source": [
    "defi2 = []\n",
    "for lst in final_n:\n",
    "    for lst2 in lst:\n",
    "        defi2.append(lst2)\n",
    "df1 = pd.DataFrame(defi2)"
   ]
  },
  {
   "cell_type": "code",
   "execution_count": 18,
   "id": "d17d1a91",
   "metadata": {},
   "outputs": [
    {
     "data": {
      "text/html": [
       "<div>\n",
       "<style scoped>\n",
       "    .dataframe tbody tr th:only-of-type {\n",
       "        vertical-align: middle;\n",
       "    }\n",
       "\n",
       "    .dataframe tbody tr th {\n",
       "        vertical-align: top;\n",
       "    }\n",
       "\n",
       "    .dataframe thead th {\n",
       "        text-align: right;\n",
       "    }\n",
       "</style>\n",
       "<table border=\"1\" class=\"dataframe\">\n",
       "  <thead>\n",
       "    <tr style=\"text-align: right;\">\n",
       "      <th></th>\n",
       "      <th>0</th>\n",
       "      <th>0</th>\n",
       "    </tr>\n",
       "  </thead>\n",
       "  <tbody>\n",
       "    <tr>\n",
       "      <th>0</th>\n",
       "      <td>Each 310g serving contains (excludes serving s...</td>\n",
       "      <td>Harissa tomato tarts</td>\n",
       "    </tr>\n",
       "    <tr>\n",
       "      <th>1</th>\n",
       "      <td>Each 568g serving contains (excludes serving s...</td>\n",
       "      <td>Aubergine and chickpea curry</td>\n",
       "    </tr>\n",
       "    <tr>\n",
       "      <th>2</th>\n",
       "      <td>Each 409g serving contains (excludes serving s...</td>\n",
       "      <td>Vegetarian lasagne</td>\n",
       "    </tr>\n",
       "    <tr>\n",
       "      <th>3</th>\n",
       "      <td>Each 259g serving contains (excludes serving s...</td>\n",
       "      <td>Spicy vegetable samosas</td>\n",
       "    </tr>\n",
       "  </tbody>\n",
       "</table>\n",
       "</div>"
      ],
      "text/plain": [
       "                                                   0  \\\n",
       "0  Each 310g serving contains (excludes serving s...   \n",
       "1  Each 568g serving contains (excludes serving s...   \n",
       "2  Each 409g serving contains (excludes serving s...   \n",
       "3  Each 259g serving contains (excludes serving s...   \n",
       "\n",
       "                              0  \n",
       "0          Harissa tomato tarts  \n",
       "1  Aubergine and chickpea curry  \n",
       "2            Vegetarian lasagne  \n",
       "3       Spicy vegetable samosas  "
      ]
     },
     "execution_count": 18,
     "metadata": {},
     "output_type": "execute_result"
    }
   ],
   "source": [
    "pd.concat([df1, df2], axis = 1)"
   ]
  },
  {
   "cell_type": "markdown",
   "id": "2564fbaa",
   "metadata": {},
   "source": [
    "**primera receta**\n",
    "\n",
    "#block-diabetes-content > div > div > div.recipes-listing > div > div.views-view-grid.horizontal.cols-12.clearfix > div > div:nth-child(1) > article > div.card__title > h3 > a > span\n",
    "\n",
    "**segunda receta**  \n",
    "\n",
    "#block-diabetes-content > div > div > div.recipes-listing > div > div.views-view-grid.horizontal.cols-12.clearfix > div > div:nth-child(2) > article > div.card__title > h3 > a > span\n",
    "\n",
    "\n",
    "**última receta de cada página**\n",
    "\n",
    "#block-diabetes-content > div > div > div.recipes-listing > div > div.views-view-grid.horizontal.cols-12.clearfix > div > div:nth-child(12) > article > div.card__title > h3 > a > span\n"
   ]
  },
  {
   "cell_type": "code",
   "execution_count": null,
   "id": "a995c741",
   "metadata": {},
   "outputs": [],
   "source": []
  }
 ],
 "metadata": {
  "kernelspec": {
   "display_name": "Selenium",
   "language": "python",
   "name": "selenium"
  },
  "language_info": {
   "codemirror_mode": {
    "name": "ipython",
    "version": 3
   },
   "file_extension": ".py",
   "mimetype": "text/x-python",
   "name": "python",
   "nbconvert_exporter": "python",
   "pygments_lexer": "ipython3",
   "version": "3.8.8"
  },
  "toc": {
   "base_numbering": 1,
   "nav_menu": {},
   "number_sections": true,
   "sideBar": true,
   "skip_h1_title": false,
   "title_cell": "Table of Contents",
   "title_sidebar": "Contents",
   "toc_cell": false,
   "toc_position": {},
   "toc_section_display": true,
   "toc_window_display": false
  }
 },
 "nbformat": 4,
 "nbformat_minor": 5
}
